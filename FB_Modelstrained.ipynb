{
  "nbformat": 4,
  "nbformat_minor": 0,
  "metadata": {
    "colab": {
      "name": "FB_Modelstrained.ipynb",
      "version": "0.3.2",
      "provenance": [],
      "collapsed_sections": []
    },
    "kernelspec": {
      "name": "python3",
      "display_name": "Python 3"
    },
    "accelerator": "GPU"
  },
  "cells": [
    {
      "cell_type": "markdown",
      "metadata": {
        "id": "naWvqMEMHglO",
        "colab_type": "text"
      },
      "source": [
        "<p style=\"font-size:32px;text-align:center\"> <b>Social network Graph Link Prediction - Facebook Challenge</b> </p>"
      ]
    },
    {
      "cell_type": "code",
      "metadata": {
        "id": "9wb9N5RzHglP",
        "colab_type": "code",
        "colab": {}
      },
      "source": [
        "#Importing Libraries\n",
        "# please do go through this python notebook: \n",
        "import warnings\n",
        "warnings.filterwarnings(\"ignore\")\n",
        "\n",
        "import csv\n",
        "import pandas as pd#pandas to create small dataframes \n",
        "import datetime #Convert to unix time\n",
        "import time #Convert to unix time\n",
        "# if numpy is not installed already : pip3 install numpy\n",
        "import numpy as np#Do aritmetic operations on arrays\n",
        "# matplotlib: used to plot graphs\n",
        "import matplotlib\n",
        "import matplotlib.pylab as plt\n",
        "import seaborn as sns#Plots\n",
        "from matplotlib import rcParams#Size of plots  \n",
        "from sklearn.cluster import MiniBatchKMeans, KMeans#Clustering\n",
        "import math\n",
        "import pickle\n",
        "import os\n",
        "# to install xgboost: pip3 install xgboost\n",
        "import xgboost as xgb\n",
        "\n",
        "import warnings\n",
        "import networkx as nx\n",
        "import pdb\n",
        "import pickle\n",
        "from pandas import HDFStore,DataFrame\n",
        "from pandas import read_hdf\n",
        "from scipy.sparse.linalg import svds, eigs\n",
        "import gc\n",
        "from tqdm import tqdm\n",
        "from sklearn.ensemble import RandomForestClassifier\n",
        "from sklearn.metrics import f1_score"
      ],
      "execution_count": 0,
      "outputs": []
    },
    {
      "cell_type": "code",
      "metadata": {
        "id": "BZdvX_tEQFCh",
        "colab_type": "code",
        "outputId": "27d07094-944e-41ac-b5db-0fe76526dc20",
        "colab": {
          "base_uri": "https://localhost:8080/",
          "height": 34
        }
      },
      "source": [
        "from google.colab import files\n",
        "from google.colab import drive\n",
        "drive.mount('/content/drive')"
      ],
      "execution_count": 2,
      "outputs": [
        {
          "output_type": "stream",
          "text": [
            "Drive already mounted at /content/drive; to attempt to forcibly remount, call drive.mount(\"/content/drive\", force_remount=True).\n"
          ],
          "name": "stdout"
        }
      ]
    },
    {
      "cell_type": "code",
      "metadata": {
        "id": "XC4OJFKkHglU",
        "colab_type": "code",
        "colab": {}
      },
      "source": [
        "#reading\n",
        "from pandas import read_hdf\n",
        "df_final_train = read_hdf('/content/drive/My Drive/Asgn/FB/storage_sample_stage4.h5', 'train_df',mode='r')\n",
        "df_final_test = read_hdf('/content/drive/My Drive/Asgn/FB/storage_sample_stage4.h5', 'test_df',mode='r')"
      ],
      "execution_count": 0,
      "outputs": []
    },
    {
      "cell_type": "code",
      "metadata": {
        "id": "5Gm-BHRkHglW",
        "colab_type": "code",
        "outputId": "86386e8a-9778-46a0-d3f6-a7fa97721e11",
        "colab": {
          "base_uri": "https://localhost:8080/",
          "height": 260
        }
      },
      "source": [
        "df_final_train.columns"
      ],
      "execution_count": 4,
      "outputs": [
        {
          "output_type": "execute_result",
          "data": {
            "text/plain": [
              "Index(['source_node', 'destination_node', 'indicator_link',\n",
              "       'jaccard_followers', 'jaccard_followees', 'cosine_followers',\n",
              "       'cosine_followees', 'num_followers_s', 'num_followers_d',\n",
              "       'num_followees_s', 'num_followees_d', 'inter_followers',\n",
              "       'inter_followees', 'adar_index', 'follows_back', 'same_comp',\n",
              "       'shortest_path', 'weight_in', 'weight_out', 'weight_f1', 'weight_f2',\n",
              "       'weight_f3', 'weight_f4', 'page_rank_s', 'page_rank_d', 'katz_s',\n",
              "       'katz_d', 'hubs_s', 'hubs_d', 'authorities_s', 'authorities_d',\n",
              "       'svd_u_s_1', 'svd_u_s_2', 'svd_u_s_3', 'svd_u_s_4', 'svd_u_s_5',\n",
              "       'svd_u_s_6', 'svd_u_d_1', 'svd_u_d_2', 'svd_u_d_3', 'svd_u_d_4',\n",
              "       'svd_u_d_5', 'svd_u_d_6', 'svd_v_s_1', 'svd_v_s_2', 'svd_v_s_3',\n",
              "       'svd_v_s_4', 'svd_v_s_5', 'svd_v_s_6', 'svd_v_d_1', 'svd_v_d_2',\n",
              "       'svd_v_d_3', 'svd_v_d_4', 'svd_v_d_5', 'svd_v_d_6'],\n",
              "      dtype='object')"
            ]
          },
          "metadata": {
            "tags": []
          },
          "execution_count": 4
        }
      ]
    },
    {
      "cell_type": "code",
      "metadata": {
        "id": "XRW7VZ4AHglc",
        "colab_type": "code",
        "colab": {}
      },
      "source": [
        "y_train = df_final_train.indicator_link\n",
        "y_test = df_final_test.indicator_link"
      ],
      "execution_count": 0,
      "outputs": []
    },
    {
      "cell_type": "code",
      "metadata": {
        "id": "4lj9M_qtHglf",
        "colab_type": "code",
        "colab": {}
      },
      "source": [
        "df_final_train.drop(['source_node', 'destination_node','indicator_link'],axis=1,inplace=True)\n",
        "df_final_test.drop(['source_node', 'destination_node','indicator_link'],axis=1,inplace=True)"
      ],
      "execution_count": 0,
      "outputs": []
    },
    {
      "cell_type": "code",
      "metadata": {
        "id": "lIEc91uVHgli",
        "colab_type": "code",
        "outputId": "ce012dcb-65b3-4e87-913b-a9db90e2fc88",
        "colab": {
          "base_uri": "https://localhost:8080/",
          "height": 400
        }
      },
      "source": [
        "estimators = [10,50,100,250,450]\n",
        "train_scores = []\n",
        "test_scores = []\n",
        "for i in estimators:\n",
        "    clf = RandomForestClassifier(bootstrap=True, class_weight=None, criterion='gini',\n",
        "            max_depth=5, max_features='auto', max_leaf_nodes=None,\n",
        "            min_impurity_decrease=0.0, min_impurity_split=None,\n",
        "            min_samples_leaf=52, min_samples_split=120,\n",
        "            min_weight_fraction_leaf=0.0, n_estimators=i, n_jobs=-1,random_state=25,verbose=0,warm_start=False)\n",
        "    clf.fit(df_final_train,y_train)\n",
        "    train_sc = f1_score(y_train,clf.predict(df_final_train))\n",
        "    test_sc = f1_score(y_test,clf.predict(df_final_test))\n",
        "    test_scores.append(test_sc)\n",
        "    train_scores.append(train_sc)\n",
        "    print('Estimators = ',i,'Train Score',train_sc,'test Score',test_sc)\n",
        "plt.plot(estimators,train_scores,label='Train Score')\n",
        "plt.plot(estimators,test_scores,label='Test Score')\n",
        "plt.xlabel('Estimators')\n",
        "plt.ylabel('Score')\n",
        "plt.title('Estimators vs score at depth of 5')"
      ],
      "execution_count": 0,
      "outputs": [
        {
          "output_type": "stream",
          "text": [
            "Estimators =  10 Train Score 0.9178316720409213 test Score 0.8686841930997947\n",
            "Estimators =  50 Train Score 0.9258785808587774 test Score 0.9079426247056305\n",
            "Estimators =  100 Train Score 0.9263951418699614 test Score 0.9134703439463315\n",
            "Estimators =  250 Train Score 0.9241129782806471 test Score 0.9134907000911963\n",
            "Estimators =  450 Train Score 0.9250669232056216 test Score 0.914323281163846\n"
          ],
          "name": "stdout"
        },
        {
          "output_type": "execute_result",
          "data": {
            "text/plain": [
              "Text(0.5, 1.0, 'Estimators vs score at depth of 5')"
            ]
          },
          "metadata": {
            "tags": []
          },
          "execution_count": 8
        },
        {
          "output_type": "display_data",
          "data": {
            "image/png": "[encoded data removed]",
            "text/plain": [
              "<Figure size 432x288 with 1 Axes>"
            ]
          },
          "metadata": {
            "tags": []
          }
        }
      ]
    },
    {
      "cell_type": "code",
      "metadata": {
        "id": "nZxhrTdQHglm",
        "colab_type": "code",
        "outputId": "405f7285-9b66-4d37-8808-c5e24990d0a2",
        "colab": {
          "base_uri": "https://localhost:8080/",
          "height": 452
        }
      },
      "source": [
        "depths = [3,9,11,15,20,35,50,70,130]\n",
        "train_scores = []\n",
        "test_scores = []\n",
        "for i in depths:\n",
        "    clf = RandomForestClassifier(bootstrap=True, class_weight=None, criterion='gini',\n",
        "            max_depth=i, max_features='auto', max_leaf_nodes=None,\n",
        "            min_impurity_decrease=0.0, min_impurity_split=None,\n",
        "            min_samples_leaf=52, min_samples_split=120,\n",
        "            min_weight_fraction_leaf=0.0, n_estimators=115, n_jobs=-1,random_state=25,verbose=0,warm_start=False)\n",
        "    clf.fit(df_final_train,y_train)\n",
        "    train_sc = f1_score(y_train,clf.predict(df_final_train))\n",
        "    test_sc = f1_score(y_test,clf.predict(df_final_test))\n",
        "    test_scores.append(test_sc)\n",
        "    train_scores.append(train_sc)\n",
        "    print('depth = ',i,'Train Score',train_sc,'test Score',test_sc)\n",
        "plt.plot(depths,train_scores,label='Train Score')\n",
        "plt.plot(depths,test_scores,label='Test Score')\n",
        "plt.xlabel('Depth')\n",
        "plt.ylabel('Score')\n",
        "plt.title('Depth vs score at depth of 5 at estimators = 115')\n",
        "plt.show()"
      ],
      "execution_count": 0,
      "outputs": [
        {
          "output_type": "stream",
          "text": [
            "depth =  3 Train Score 0.8923620606239088 test Score 0.8617670700180313\n",
            "depth =  9 Train Score 0.9577622891431021 test Score 0.9187672688629117\n",
            "depth =  11 Train Score 0.9603731502887229 test Score 0.9193359831657704\n",
            "depth =  15 Train Score 0.9653596563385431 test Score 0.9212852771166271\n",
            "depth =  20 Train Score 0.9649197643713182 test Score 0.9209088783556869\n",
            "depth =  35 Train Score 0.9653365823941518 test Score 0.9211085607413075\n",
            "depth =  50 Train Score 0.9653365823941518 test Score 0.9211085607413075\n",
            "depth =  70 Train Score 0.9653365823941518 test Score 0.9211085607413075\n",
            "depth =  130 Train Score 0.9653365823941518 test Score 0.9211085607413075\n"
          ],
          "name": "stdout"
        },
        {
          "output_type": "display_data",
          "data": {
            "image/png": "[encoded data removed]",
            "text/plain": [
              "<Figure size 432x288 with 1 Axes>"
            ]
          },
          "metadata": {
            "tags": []
          }
        }
      ]
    },
    {
      "cell_type": "code",
      "metadata": {
        "id": "MrG1Lfl3Hglq",
        "colab_type": "code",
        "outputId": "e2b2c084-4c68-4b28-a00c-9ed425bde478",
        "colab": {
          "base_uri": "https://localhost:8080/",
          "height": 34
        }
      },
      "source": [
        "from sklearn.metrics import f1_score\n",
        "from sklearn.ensemble import RandomForestClassifier\n",
        "from sklearn.metrics import f1_score\n",
        "from sklearn.model_selection import RandomizedSearchCV\n",
        "from scipy.stats import randint as sp_randint\n",
        "from scipy.stats import uniform\n",
        "\n",
        "param_dist = {\"n_estimators\":sp_randint(105,125),\n",
        "              \"max_depth\": sp_randint(10,15),\n",
        "              \"min_samples_split\": sp_randint(110,190),\n",
        "              \"min_samples_leaf\": sp_randint(25,65)}\n",
        "\n",
        "clf = RandomForestClassifier(random_state=25,n_jobs=-1)\n",
        "\n",
        "rf_random = RandomizedSearchCV(clf, param_distributions=param_dist,\n",
        "                                   n_iter=5,cv=10,scoring='f1',random_state=25)\n",
        "\n",
        "rf_random.fit(df_final_train,y_train)\n",
        "print('mean test scores',rf_random.cv_results_['mean_test_score'])\n",
        "#print('mean train scores',rf_random.cv_results_['mean_train_score'])"
      ],
      "execution_count": 0,
      "outputs": [
        {
          "output_type": "stream",
          "text": [
            "mean test scores [0.96331023 0.96259747 0.96046294 0.96282183 0.9651594 ]\n"
          ],
          "name": "stdout"
        }
      ]
    },
    {
      "cell_type": "code",
      "metadata": {
        "id": "hme3j_diHglu",
        "colab_type": "code",
        "outputId": "a4428f6c-f93d-4604-b013-193024faa71a",
        "colab": {
          "base_uri": "https://localhost:8080/",
          "height": 138
        }
      },
      "source": [
        "print(rf_random.best_estimator_)"
      ],
      "execution_count": 0,
      "outputs": [
        {
          "output_type": "stream",
          "text": [
            "RandomForestClassifier(bootstrap=True, class_weight=None, criterion='gini',\n",
            "                       max_depth=14, max_features='auto', max_leaf_nodes=None,\n",
            "                       min_impurity_decrease=0.0, min_impurity_split=None,\n",
            "                       min_samples_leaf=28, min_samples_split=111,\n",
            "                       min_weight_fraction_leaf=0.0, n_estimators=121,\n",
            "                       n_jobs=-1, oob_score=False, random_state=25, verbose=0,\n",
            "                       warm_start=False)\n"
          ],
          "name": "stdout"
        }
      ]
    },
    {
      "cell_type": "code",
      "metadata": {
        "id": "qu4KIEweHglx",
        "colab_type": "code",
        "colab": {}
      },
      "source": [
        "clf = RandomForestClassifier(bootstrap=True, class_weight=None, criterion='gini',\n",
        "            max_depth=14, max_features='auto', max_leaf_nodes=None,\n",
        "            min_impurity_decrease=0.0, min_impurity_split=None,\n",
        "            min_samples_leaf=28, min_samples_split=111,\n",
        "            min_weight_fraction_leaf=0.0, n_estimators=121, n_jobs=-1,\n",
        "            oob_score=False, random_state=25, verbose=0, warm_start=False)"
      ],
      "execution_count": 0,
      "outputs": []
    },
    {
      "cell_type": "code",
      "metadata": {
        "id": "Dax83GfLHgl1",
        "colab_type": "code",
        "colab": {}
      },
      "source": [
        "clf.fit(df_final_train,y_train)\n",
        "y_train_pred = clf.predict(df_final_train)\n",
        "y_test_pred = clf.predict(df_final_test)"
      ],
      "execution_count": 0,
      "outputs": []
    },
    {
      "cell_type": "code",
      "metadata": {
        "id": "PTtAp1iTHgl4",
        "colab_type": "code",
        "outputId": "b7b2d8c7-6f06-47b1-fafb-b7f9e9846fdb",
        "colab": {
          "base_uri": "https://localhost:8080/",
          "height": 52
        }
      },
      "source": [
        "from sklearn.metrics import f1_score\n",
        "print('Train f1 score',f1_score(y_train,y_train_pred))\n",
        "print('Test f1 score',f1_score(y_test,y_test_pred))"
      ],
      "execution_count": 0,
      "outputs": [
        {
          "output_type": "stream",
          "text": [
            "Train f1 score 0.9658803321509518\n",
            "Test f1 score 0.9223868540209604\n"
          ],
          "name": "stdout"
        }
      ]
    },
    {
      "cell_type": "code",
      "metadata": {
        "id": "5XfUkZYQHgl7",
        "colab_type": "code",
        "colab": {}
      },
      "source": [
        "from sklearn.metrics import confusion_matrix\n",
        "def plot_confusion_matrix(test_y, predict_y):\n",
        "    C = confusion_matrix(test_y, predict_y)\n",
        "    \n",
        "    A =(((C.T)/(C.sum(axis=1))).T)\n",
        "    \n",
        "    B =(C/C.sum(axis=0))\n",
        "    plt.figure(figsize=(20,4))\n",
        "    \n",
        "    labels = [0,1]\n",
        "    # representing A in heatmap format\n",
        "    cmap=sns.light_palette(\"blue\")\n",
        "    plt.subplot(1, 3, 1)\n",
        "    sns.heatmap(C, annot=True, cmap=cmap, fmt=\".3f\", xticklabels=labels, yticklabels=labels)\n",
        "    plt.xlabel('Predicted Class')\n",
        "    plt.ylabel('Original Class')\n",
        "    plt.title(\"Confusion matrix\")\n",
        "    \n",
        "    plt.subplot(1, 3, 2)\n",
        "    sns.heatmap(B, annot=True, cmap=cmap, fmt=\".3f\", xticklabels=labels, yticklabels=labels)\n",
        "    plt.xlabel('Predicted Class')\n",
        "    plt.ylabel('Original Class')\n",
        "    plt.title(\"Precision matrix\")\n",
        "    \n",
        "    plt.subplot(1, 3, 3)\n",
        "    # representing B in heatmap format\n",
        "    sns.heatmap(A, annot=True, cmap=cmap, fmt=\".3f\", xticklabels=labels, yticklabels=labels)\n",
        "    plt.xlabel('Predicted Class')\n",
        "    plt.ylabel('Original Class')\n",
        "    plt.title(\"Recall matrix\")\n",
        "    \n",
        "    plt.show()"
      ],
      "execution_count": 0,
      "outputs": []
    },
    {
      "cell_type": "code",
      "metadata": {
        "id": "s6t11dhTHgl-",
        "colab_type": "code",
        "outputId": "55648528-8b65-407a-857d-4736c6225c45",
        "colab": {
          "base_uri": "https://localhost:8080/",
          "height": 609
        }
      },
      "source": [
        "print('Train confusion_matrix')\n",
        "plot_confusion_matrix(y_train,y_train_pred)\n",
        "print('Test confusion_matrix')\n",
        "plot_confusion_matrix(y_test,y_test_pred)"
      ],
      "execution_count": 0,
      "outputs": [
        {
          "output_type": "stream",
          "text": [
            "Train confusion_matrix\n"
          ],
          "name": "stdout"
        },
        {
          "output_type": "display_data",
          "data": {
            "image/png": "[encoded data removed]",
            "text/plain": [
              "<Figure size 1440x288 with 6 Axes>"
            ]
          },
          "metadata": {
            "tags": []
          }
        },
        {
          "output_type": "stream",
          "text": [
            "Test confusion_matrix\n"
          ],
          "name": "stdout"
        },
        {
          "output_type": "display_data",
          "data": {
            "image/png": "[encoded data removed]",
            "text/plain": [
              "<Figure size 1440x288 with 6 Axes>"
            ]
          },
          "metadata": {
            "tags": []
          }
        }
      ]
    },
    {
      "cell_type": "code",
      "metadata": {
        "id": "61TF-VLeHgmD",
        "colab_type": "code",
        "outputId": "c3b722d9-37ad-4e95-b393-6f5caacd8767",
        "colab": {
          "base_uri": "https://localhost:8080/",
          "height": 296
        }
      },
      "source": [
        "from sklearn.metrics import roc_curve, auc\n",
        "fpr,tpr,ths = roc_curve(y_test,y_test_pred)\n",
        "auc_sc = auc(fpr, tpr)\n",
        "plt.plot(fpr, tpr, color='navy',label='ROC curve (area = %0.2f)' % auc_sc)\n",
        "plt.xlabel('False Positive Rate')\n",
        "plt.ylabel('True Positive Rate')\n",
        "plt.title('Receiver operating characteristic with test data')\n",
        "plt.legend()\n",
        "plt.show()"
      ],
      "execution_count": 0,
      "outputs": [
        {
          "output_type": "display_data",
          "data": {
            "image/png": "[encoded data removed]",
            "text/plain": [
              "<Figure size 432x288 with 1 Axes>"
            ]
          },
          "metadata": {
            "tags": []
          }
        }
      ]
    },
    {
      "cell_type": "code",
      "metadata": {
        "scrolled": false,
        "id": "HEZ7uvN6HgmK",
        "colab_type": "code",
        "outputId": "281b8d16-f4bc-4ad3-c3b0-687830e80a34",
        "colab": {
          "base_uri": "https://localhost:8080/",
          "height": 730
        }
      },
      "source": [
        "features = df_final_train.columns\n",
        "importances = clf.feature_importances_\n",
        "indices = (np.argsort(importances))[-25:]\n",
        "plt.figure(figsize=(10,12))\n",
        "plt.title('Feature Importances')\n",
        "plt.barh(range(len(indices)), importances[indices], color='r', align='center')\n",
        "plt.yticks(range(len(indices)), [features[i] for i in indices])\n",
        "plt.xlabel('Relative Importance')\n",
        "plt.show()"
      ],
      "execution_count": 0,
      "outputs": [
        {
          "output_type": "display_data",
          "data": {
            "image/png": "[encoded data removed]",
            "text/plain": [
              "<Figure size 720x864 with 1 Axes>"
            ]
          },
          "metadata": {
            "tags": []
          }
        }
      ]
    },
    {
      "cell_type": "code",
      "metadata": {
        "id": "LxpxFj_S2R4g",
        "colab_type": "code",
        "colab": {}
      },
      "source": [
        ""
      ],
      "execution_count": 0,
      "outputs": []
    },
    {
      "cell_type": "code",
      "metadata": {
        "id": "4wsQY_8g2R8J",
        "colab_type": "code",
        "colab": {}
      },
      "source": [
        ""
      ],
      "execution_count": 0,
      "outputs": []
    },
    {
      "cell_type": "code",
      "metadata": {
        "id": "Fd4Q9dHM2R-z",
        "colab_type": "code",
        "colab": {}
      },
      "source": [
        ""
      ],
      "execution_count": 0,
      "outputs": []
    },
    {
      "cell_type": "code",
      "metadata": {
        "id": "Vl356X-s2SC9",
        "colab_type": "code",
        "colab": {}
      },
      "source": [
        ""
      ],
      "execution_count": 0,
      "outputs": []
    },
    {
      "cell_type": "code",
      "metadata": {
        "id": "KR7SeCbZEE3M",
        "colab_type": "code",
        "colab": {}
      },
      "source": [
        "#https://networkx.github.io/documentation/networkx-1.10/reference/generated/networkx.algorithms.link_prediction.preferential_attachment.html"
      ],
      "execution_count": 0,
      "outputs": []
    },
    {
      "cell_type": "markdown",
      "metadata": {
        "id": "xdHW32hcHgmN",
        "colab_type": "text"
      },
      "source": [
        "# Assignments:\n",
        "\n",
        "1. Add another feature called  Preferential Attachment  with followers and followees data of vertex. you can check about Preferential Attachment in below link\n",
        "http://be.amazd.com/link-prediction/ <br>\n",
        "2. Add  feature called svd_dot. you can calculate svd_dot as Dot product between sourse node svd and destination node svd features.  you can read about this in below pdf \n",
        "https://storage.googleapis.com/kaggle-forum-message-attachments/2594/supervised_link_prediction.pdf<br>\n",
        "3. Tune hyperparameters for XG boost with all these features and check the error metric."
      ]
    },
    {
      "cell_type": "markdown",
      "metadata": {
        "id": "L6w7ep6vCvN8",
        "colab_type": "text"
      },
      "source": [
        "# **Preferential Attachment with followers and followees data of vertex**"
      ]
    },
    {
      "cell_type": "code",
      "metadata": {
        "id": "u-sOv3dEeylb",
        "colab_type": "code",
        "colab": {}
      },
      "source": [
        "#https://arxiv.org/pdf/1303.6271.pdf\n",
        "#https://networkx.github.io/documentation/networkx-1.10/reference/generated/networkx.algorithms.link_prediction.preferential_attachment.html\n",
        "#https://medium.com/@SeloSlav/preferential-attachment-and-consumer-surplus-2efc2e291c14"
      ],
      "execution_count": 0,
      "outputs": []
    },
    {
      "cell_type": "code",
      "metadata": {
        "id": "FHDv8lLTeyop",
        "colab_type": "code",
        "colab": {}
      },
      "source": [
        "#Preferential Attachment: This method states that the probability that a new future edge involves node x is directly proportional to neighbors of x. In real world, it matches the idea – rich become richer. In other words, more the number of current friends, higher are the chances of making new friends in future. Hence, the preferential attachments score of two nodes x and y is calculated as:\n",
        "\n",
        "#Score(x, y) = Nx × Ny\n",
        "#where, Nx = neighbours of x    and   Ny = neighbours of y"
      ],
      "execution_count": 0,
      "outputs": []
    },
    {
      "cell_type": "code",
      "metadata": {
        "id": "rivfufP4ezv6",
        "colab_type": "code",
        "colab": {}
      },
      "source": [
        "#https://medium.com/@bgoncalves/network-effects-explained-pagerank-and-preferential-attachment-61fdf93d023a"
      ],
      "execution_count": 0,
      "outputs": []
    },
    {
      "cell_type": "code",
      "metadata": {
        "id": "_091abFeezz_",
        "colab_type": "code",
        "colab": {}
      },
      "source": [
        "#https://medium.com/@SeloSlav/preferential-attachment-and-consumer-surplus-2efc2e291c14"
      ],
      "execution_count": 0,
      "outputs": []
    },
    {
      "cell_type": "code",
      "metadata": {
        "id": "EA4s2WY5qRsk",
        "colab_type": "code",
        "colab": {}
      },
      "source": [
        "#https://stackoverflow.com/questions/6632445/common-neighbors-and-preferential-attachment-score-matrixes-using-igraph-for-pyt"
      ],
      "execution_count": 0,
      "outputs": []
    },
    {
      "cell_type": "code",
      "metadata": {
        "id": "7OIJh128_til",
        "colab_type": "code",
        "colab": {}
      },
      "source": [
        "#https://medium.com/@cynosuremishra01/different-featurization-techniques-for-graph-related-problems-in-machine-learning-9c9d60caae60"
      ],
      "execution_count": 0,
      "outputs": []
    },
    {
      "cell_type": "code",
      "metadata": {
        "id": "4MVVYgoEBTbW",
        "colab_type": "code",
        "colab": {}
      },
      "source": [
        "#reading\n",
        "from pandas import read_hdf\n",
        "df_final_train = read_hdf('/content/drive/My Drive/Asgn/FB/storage_sample_stage4.h5', 'train_df',mode='r')\n",
        "df_final_test = read_hdf('/content/drive/My Drive/Asgn/FB/storage_sample_stage4.h5', 'test_df',mode='r')"
      ],
      "execution_count": 0,
      "outputs": []
    },
    {
      "cell_type": "code",
      "metadata": {
        "id": "Tl4aMdPaqRvS",
        "colab_type": "code",
        "colab": {}
      },
      "source": [
        "def pa_followers(a,b):\n",
        "  \n",
        "    try:\n",
        "    \n",
        "        if len(set(train_graph.predecessors(a))) == 0  | len(set(train_graph.predecessors(b))) == 0:\n",
        "      \n",
        "          return 0\n",
        "    \n",
        "        score = (len(set(train_graph.predecessors(a))*(set(train_graph.predecessors(b)))))\n",
        "    \n",
        "        return score\n",
        "  \n",
        "    except:\n",
        "    \n",
        "        return 0"
      ],
      "execution_count": 0,
      "outputs": []
    },
    {
      "cell_type": "code",
      "metadata": {
        "id": "p-W9nQyNqR0c",
        "colab_type": "code",
        "colab": {}
      },
      "source": [
        "def pa_followees(a,b):\n",
        "\n",
        "    try:\n",
        "        if len(set(train_graph.successors(a))) == 0  | len(set(train_graph.successors(b))) == 0:\n",
        "          \n",
        "            return 0\n",
        "          \n",
        "        similarity = (len(set(train_graph.successors(a))))*(len(set(train_graph.successors(b))))\n",
        "        \n",
        "        return  similarity\n",
        "  \n",
        "    except:\n",
        "    \n",
        "       return 0"
      ],
      "execution_count": 0,
      "outputs": []
    },
    {
      "cell_type": "code",
      "metadata": {
        "id": "P68pTeNQ_Gua",
        "colab_type": "code",
        "colab": {}
      },
      "source": [
        "df_final_train['pa_followers'] = df_final_train.apply(lambda p:\n",
        "                                            pa_followers(df_final_train['source_node'],df_final_train['destination_node']),axis=1)"
      ],
      "execution_count": 0,
      "outputs": []
    },
    {
      "cell_type": "code",
      "metadata": {
        "id": "9byZKqcRBaZ8",
        "colab_type": "code",
        "colab": {}
      },
      "source": [
        "df_final_test['pa_followers'] = df_final_test.apply(lambda p:\n",
        "                                            pa_followers(df_final_train['source_node'],df_final_train['destination_node']),axis=1)"
      ],
      "execution_count": 0,
      "outputs": []
    },
    {
      "cell_type": "code",
      "metadata": {
        "id": "Z4D5l7XzBctq",
        "colab_type": "code",
        "colab": {}
      },
      "source": [
        "df_final_train['pa_followees'] = df_final_train.apply(lambda p:\n",
        "                                            pa_followees(df_final_train['source_node'],df_final_train['destination_node']),axis=1)"
      ],
      "execution_count": 0,
      "outputs": []
    },
    {
      "cell_type": "code",
      "metadata": {
        "id": "IXwcy2QLBegK",
        "colab_type": "code",
        "colab": {}
      },
      "source": [
        "\n",
        "df_final_test['pa_followees'] = df_final_test.apply(lambda p:\n",
        "                                            pa_followees(df_final_train['source_node'],df_final_train['destination_node']),axis=1)"
      ],
      "execution_count": 0,
      "outputs": []
    },
    {
      "cell_type": "markdown",
      "metadata": {
        "id": "RPncHn0n7AdL",
        "colab_type": "text"
      },
      "source": [
        "# **Dot product between source node svd and destination node svd features**"
      ]
    },
    {
      "cell_type": "code",
      "metadata": {
        "id": "5L1lj0BF5Wqq",
        "colab_type": "code",
        "colab": {}
      },
      "source": [
        "tru1 = np.dot(df_final_train['svd_u_s_1'],(df_final_train['svd_u_d_1']))+np.dot(df_final_train['svd_u_s_2'],(df_final_train['svd_u_d_2']))+np.dot(df_final_train['svd_u_s_3'],(df_final_train['svd_u_d_3']))+np.dot(df_final_train['svd_u_s_4'],(df_final_train['svd_u_d_4']))+np.dot(df_final_train['svd_u_s_5'],(df_final_train['svd_u_d_5']))+np.dot(df_final_train['svd_u_s_6'],(df_final_train['svd_u_d_6']))\n",
        "tsv1 = np.dot(df_final_test['svd_u_s_1'],(df_final_test['svd_u_d_1']))+np.dot(df_final_test['svd_u_s_2'],(df_final_test['svd_u_d_2']))+np.dot(df_final_test['svd_u_s_3'],(df_final_test['svd_u_d_3']))+np.dot(df_final_test['svd_u_s_4'],(df_final_test['svd_u_d_4']))+np.dot(df_final_test['svd_u_s_5'],(df_final_test['svd_u_d_5']))+np.dot(df_final_test['svd_u_s_6'],(df_final_test['svd_u_d_6']))\n"
      ],
      "execution_count": 0,
      "outputs": []
    },
    {
      "cell_type": "code",
      "metadata": {
        "id": "MvzCiPwmJFy2",
        "colab_type": "code",
        "colab": {}
      },
      "source": [
        "trv2=np.dot(df_final_train['svd_v_s_1'],(df_final_train['svd_v_d_1']))+np.dot(df_final_train['svd_v_s_2'],(df_final_train['svd_v_d_2']))+np.dot(df_final_train['svd_v_s_3'],(df_final_train['svd_v_d_3']))+ np.dot(df_final_train['svd_v_s_4'],(df_final_train['svd_v_d_4']))+np.dot(df_final_test['svd_u_s_5'],(df_final_test['svd_u_d_5']))+np.dot(df_final_train['svd_v_s_6'],(df_final_train['svd_v_d_6']))"
      ],
      "execution_count": 0,
      "outputs": []
    },
    {
      "cell_type": "code",
      "metadata": {
        "id": "EgYqwqTVKMPl",
        "colab_type": "code",
        "colab": {}
      },
      "source": [
        "tsv2=np.dot(df_final_test['svd_v_s_1'],(df_final_test['svd_v_d_1']))+np.dot(df_final_test['svd_v_s_2'],(df_final_test['svd_v_d_2']))+np.dot(df_final_test['svd_v_s_3'],(df_final_test['svd_v_d_3']))+np.dot(df_final_test['svd_v_s_4'],(df_final_test['svd_v_d_4']))+np.dot(df_final_test['svd_v_s_5'],(df_final_test['svd_v_d_5']))+np.dot(df_final_test['svd_v_s_6'],(df_final_test['svd_v_d_6']))"
      ],
      "execution_count": 0,
      "outputs": []
    },
    {
      "cell_type": "code",
      "metadata": {
        "id": "82SELlXeKe0o",
        "colab_type": "code",
        "colab": {}
      },
      "source": [
        "df_final_train['svd_u_dot_tr']=tru1\n",
        "df_final_train['svd_v_dot_tr']=tsv1\n",
        "df_final_test['svd_u_dot_ts']=trv2\n",
        "df_final_test['svd_V_dot_ts']=tsv2\n",
        "\n",
        "\n"
      ],
      "execution_count": 0,
      "outputs": []
    },
    {
      "cell_type": "code",
      "metadata": {
        "id": "_xUnfBuKHdpV",
        "colab_type": "code",
        "outputId": "65452fe2-15bd-4628-9191-409993ea4713",
        "colab": {
          "base_uri": "https://localhost:8080/",
          "height": 309
        }
      },
      "source": [
        "\n",
        "df_final_train.head()"
      ],
      "execution_count": 16,
      "outputs": [
        {
          "output_type": "execute_result",
          "data": {
            "text/html": [
              "<div>\n",
              "<style scoped>\n",
              "    .dataframe tbody tr th:only-of-type {\n",
              "        vertical-align: middle;\n",
              "    }\n",
              "\n",
              "    .dataframe tbody tr th {\n",
              "        vertical-align: top;\n",
              "    }\n",
              "\n",
              "    .dataframe thead th {\n",
              "        text-align: right;\n",
              "    }\n",
              "</style>\n",
              "<table border=\"1\" class=\"dataframe\">\n",
              "  <thead>\n",
              "    <tr style=\"text-align: right;\">\n",
              "      <th></th>\n",
              "      <th>source_node</th>\n",
              "      <th>destination_node</th>\n",
              "      <th>indicator_link</th>\n",
              "      <th>jaccard_followers</th>\n",
              "      <th>jaccard_followees</th>\n",
              "      <th>cosine_followers</th>\n",
              "      <th>cosine_followees</th>\n",
              "      <th>num_followers_s</th>\n",
              "      <th>num_followers_d</th>\n",
              "      <th>num_followees_s</th>\n",
              "      <th>num_followees_d</th>\n",
              "      <th>inter_followers</th>\n",
              "      <th>inter_followees</th>\n",
              "      <th>adar_index</th>\n",
              "      <th>follows_back</th>\n",
              "      <th>same_comp</th>\n",
              "      <th>shortest_path</th>\n",
              "      <th>weight_in</th>\n",
              "      <th>weight_out</th>\n",
              "      <th>weight_f1</th>\n",
              "      <th>weight_f2</th>\n",
              "      <th>weight_f3</th>\n",
              "      <th>weight_f4</th>\n",
              "      <th>page_rank_s</th>\n",
              "      <th>page_rank_d</th>\n",
              "      <th>katz_s</th>\n",
              "      <th>katz_d</th>\n",
              "      <th>hubs_s</th>\n",
              "      <th>hubs_d</th>\n",
              "      <th>authorities_s</th>\n",
              "      <th>authorities_d</th>\n",
              "      <th>svd_u_s_1</th>\n",
              "      <th>svd_u_s_2</th>\n",
              "      <th>svd_u_s_3</th>\n",
              "      <th>svd_u_s_4</th>\n",
              "      <th>svd_u_s_5</th>\n",
              "      <th>svd_u_s_6</th>\n",
              "      <th>svd_u_d_1</th>\n",
              "      <th>svd_u_d_2</th>\n",
              "      <th>svd_u_d_3</th>\n",
              "      <th>svd_u_d_4</th>\n",
              "      <th>svd_u_d_5</th>\n",
              "      <th>svd_u_d_6</th>\n",
              "      <th>svd_v_s_1</th>\n",
              "      <th>svd_v_s_2</th>\n",
              "      <th>svd_v_s_3</th>\n",
              "      <th>svd_v_s_4</th>\n",
              "      <th>svd_v_s_5</th>\n",
              "      <th>svd_v_s_6</th>\n",
              "      <th>svd_v_d_1</th>\n",
              "      <th>svd_v_d_2</th>\n",
              "      <th>svd_v_d_3</th>\n",
              "      <th>svd_v_d_4</th>\n",
              "      <th>svd_v_d_5</th>\n",
              "      <th>svd_v_d_6</th>\n",
              "      <th>pa_followers</th>\n",
              "      <th>pa_followees</th>\n",
              "      <th>svd_u_dot_tr</th>\n",
              "      <th>svd_v_dot_tr</th>\n",
              "    </tr>\n",
              "  </thead>\n",
              "  <tbody>\n",
              "    <tr>\n",
              "      <th>0</th>\n",
              "      <td>273084</td>\n",
              "      <td>1505602</td>\n",
              "      <td>1</td>\n",
              "      <td>0</td>\n",
              "      <td>0.000000</td>\n",
              "      <td>0.000000</td>\n",
              "      <td>0.000000</td>\n",
              "      <td>11</td>\n",
              "      <td>6</td>\n",
              "      <td>15</td>\n",
              "      <td>8</td>\n",
              "      <td>0</td>\n",
              "      <td>0</td>\n",
              "      <td>0.000000</td>\n",
              "      <td>0</td>\n",
              "      <td>1</td>\n",
              "      <td>4</td>\n",
              "      <td>0.377964</td>\n",
              "      <td>0.250000</td>\n",
              "      <td>0.627964</td>\n",
              "      <td>0.094491</td>\n",
              "      <td>1.005929</td>\n",
              "      <td>0.877964</td>\n",
              "      <td>2.045290e-06</td>\n",
              "      <td>3.459963e-07</td>\n",
              "      <td>0.000773</td>\n",
              "      <td>0.000756</td>\n",
              "      <td>1.943132e-13</td>\n",
              "      <td>1.941103e-13</td>\n",
              "      <td>9.226339e-16</td>\n",
              "      <td>2.231877e-15</td>\n",
              "      <td>-1.666226e-13</td>\n",
              "      <td>4.613532e-13</td>\n",
              "      <td>1.043033e-05</td>\n",
              "      <td>6.677483e-13</td>\n",
              "      <td>2.451076e-13</td>\n",
              "      <td>3.584763e-12</td>\n",
              "      <td>-2.038017e-11</td>\n",
              "      <td>5.397698e-13</td>\n",
              "      <td>1.068910e-06</td>\n",
              "      <td>1.192410e-12</td>\n",
              "      <td>2.279489e-12</td>\n",
              "      <td>3.581019e-12</td>\n",
              "      <td>-7.215979e-13</td>\n",
              "      <td>3.925711e-13</td>\n",
              "      <td>1.983553e-06</td>\n",
              "      <td>1.544969e-13</td>\n",
              "      <td>8.108180e-13</td>\n",
              "      <td>1.719626e-14</td>\n",
              "      <td>-1.355356e-12</td>\n",
              "      <td>4.675177e-13</td>\n",
              "      <td>1.128587e-06</td>\n",
              "      <td>6.616619e-14</td>\n",
              "      <td>9.771036e-13</td>\n",
              "      <td>4.159882e-14</td>\n",
              "      <td>0</td>\n",
              "      <td>0</td>\n",
              "      <td>3.229227</td>\n",
              "      <td>1.594284</td>\n",
              "    </tr>\n",
              "    <tr>\n",
              "      <th>1</th>\n",
              "      <td>365429</td>\n",
              "      <td>1523458</td>\n",
              "      <td>1</td>\n",
              "      <td>0</td>\n",
              "      <td>0.023077</td>\n",
              "      <td>0.007441</td>\n",
              "      <td>0.046761</td>\n",
              "      <td>40</td>\n",
              "      <td>85</td>\n",
              "      <td>49</td>\n",
              "      <td>84</td>\n",
              "      <td>4</td>\n",
              "      <td>3</td>\n",
              "      <td>2.073506</td>\n",
              "      <td>1</td>\n",
              "      <td>1</td>\n",
              "      <td>2</td>\n",
              "      <td>0.107833</td>\n",
              "      <td>0.141421</td>\n",
              "      <td>0.249254</td>\n",
              "      <td>0.015250</td>\n",
              "      <td>0.357087</td>\n",
              "      <td>0.390675</td>\n",
              "      <td>1.033022e-06</td>\n",
              "      <td>3.096856e-06</td>\n",
              "      <td>0.000911</td>\n",
              "      <td>0.001099</td>\n",
              "      <td>2.212482e-13</td>\n",
              "      <td>2.563941e-13</td>\n",
              "      <td>7.761986e-14</td>\n",
              "      <td>6.291902e-14</td>\n",
              "      <td>-1.780428e-10</td>\n",
              "      <td>2.951837e-11</td>\n",
              "      <td>4.043029e-05</td>\n",
              "      <td>2.138001e-11</td>\n",
              "      <td>8.232025e-11</td>\n",
              "      <td>4.081876e-12</td>\n",
              "      <td>-1.367537e-10</td>\n",
              "      <td>6.609226e-11</td>\n",
              "      <td>8.692406e-04</td>\n",
              "      <td>7.907818e-12</td>\n",
              "      <td>6.199507e-11</td>\n",
              "      <td>4.730290e-12</td>\n",
              "      <td>-1.032101e-09</td>\n",
              "      <td>1.107759e-11</td>\n",
              "      <td>6.897567e-05</td>\n",
              "      <td>3.664448e-11</td>\n",
              "      <td>6.554830e-10</td>\n",
              "      <td>1.446760e-12</td>\n",
              "      <td>-9.030714e-10</td>\n",
              "      <td>2.911185e-11</td>\n",
              "      <td>4.190047e-05</td>\n",
              "      <td>8.469393e-12</td>\n",
              "      <td>3.504062e-11</td>\n",
              "      <td>1.172748e-12</td>\n",
              "      <td>0</td>\n",
              "      <td>0</td>\n",
              "      <td>3.229227</td>\n",
              "      <td>1.594284</td>\n",
              "    </tr>\n",
              "    <tr>\n",
              "      <th>2</th>\n",
              "      <td>1740713</td>\n",
              "      <td>1136962</td>\n",
              "      <td>1</td>\n",
              "      <td>0</td>\n",
              "      <td>0.166667</td>\n",
              "      <td>0.166667</td>\n",
              "      <td>0.288675</td>\n",
              "      <td>4</td>\n",
              "      <td>3</td>\n",
              "      <td>4</td>\n",
              "      <td>3</td>\n",
              "      <td>1</td>\n",
              "      <td>1</td>\n",
              "      <td>1.430677</td>\n",
              "      <td>1</td>\n",
              "      <td>1</td>\n",
              "      <td>2</td>\n",
              "      <td>0.500000</td>\n",
              "      <td>0.447214</td>\n",
              "      <td>0.947214</td>\n",
              "      <td>0.223607</td>\n",
              "      <td>1.447214</td>\n",
              "      <td>1.394427</td>\n",
              "      <td>5.122007e-07</td>\n",
              "      <td>4.485561e-07</td>\n",
              "      <td>0.000746</td>\n",
              "      <td>0.000743</td>\n",
              "      <td>1.721610e-18</td>\n",
              "      <td>9.452121e-20</td>\n",
              "      <td>9.055067e-18</td>\n",
              "      <td>4.093112e-18</td>\n",
              "      <td>-1.399279e-14</td>\n",
              "      <td>8.305409e-15</td>\n",
              "      <td>2.997889e-14</td>\n",
              "      <td>7.223725e-15</td>\n",
              "      <td>4.714693e-15</td>\n",
              "      <td>3.160889e-17</td>\n",
              "      <td>-3.678192e-15</td>\n",
              "      <td>9.016312e-17</td>\n",
              "      <td>6.388201e-15</td>\n",
              "      <td>6.375256e-17</td>\n",
              "      <td>4.031216e-16</td>\n",
              "      <td>1.757341e-18</td>\n",
              "      <td>-1.820833e-13</td>\n",
              "      <td>7.743762e-15</td>\n",
              "      <td>9.311331e-14</td>\n",
              "      <td>5.149581e-15</td>\n",
              "      <td>4.808007e-14</td>\n",
              "      <td>1.687829e-16</td>\n",
              "      <td>-1.806326e-13</td>\n",
              "      <td>9.353659e-16</td>\n",
              "      <td>5.615939e-13</td>\n",
              "      <td>1.349565e-15</td>\n",
              "      <td>2.295285e-15</td>\n",
              "      <td>7.629160e-17</td>\n",
              "      <td>0</td>\n",
              "      <td>0</td>\n",
              "      <td>3.229227</td>\n",
              "      <td>1.594284</td>\n",
              "    </tr>\n",
              "    <tr>\n",
              "      <th>3</th>\n",
              "      <td>1409029</td>\n",
              "      <td>1406493</td>\n",
              "      <td>1</td>\n",
              "      <td>0</td>\n",
              "      <td>0.000000</td>\n",
              "      <td>0.007924</td>\n",
              "      <td>0.000000</td>\n",
              "      <td>13</td>\n",
              "      <td>35</td>\n",
              "      <td>12</td>\n",
              "      <td>17</td>\n",
              "      <td>1</td>\n",
              "      <td>0</td>\n",
              "      <td>0.000000</td>\n",
              "      <td>0</td>\n",
              "      <td>1</td>\n",
              "      <td>4</td>\n",
              "      <td>0.166667</td>\n",
              "      <td>0.277350</td>\n",
              "      <td>0.444017</td>\n",
              "      <td>0.046225</td>\n",
              "      <td>0.610683</td>\n",
              "      <td>0.721367</td>\n",
              "      <td>1.490340e-06</td>\n",
              "      <td>4.851762e-06</td>\n",
              "      <td>0.000781</td>\n",
              "      <td>0.000864</td>\n",
              "      <td>3.205441e-14</td>\n",
              "      <td>1.425674e-15</td>\n",
              "      <td>8.770660e-16</td>\n",
              "      <td>7.252439e-15</td>\n",
              "      <td>-8.985925e-12</td>\n",
              "      <td>6.532389e-11</td>\n",
              "      <td>7.281128e-11</td>\n",
              "      <td>4.415435e-13</td>\n",
              "      <td>2.935164e-12</td>\n",
              "      <td>5.913813e-13</td>\n",
              "      <td>-5.882105e-13</td>\n",
              "      <td>2.281826e-10</td>\n",
              "      <td>6.793224e-10</td>\n",
              "      <td>1.908866e-12</td>\n",
              "      <td>6.369910e-12</td>\n",
              "      <td>2.630327e-14</td>\n",
              "      <td>-2.997307e-12</td>\n",
              "      <td>1.416808e-11</td>\n",
              "      <td>3.509994e-11</td>\n",
              "      <td>7.693432e-12</td>\n",
              "      <td>1.141127e-12</td>\n",
              "      <td>1.634765e-14</td>\n",
              "      <td>-1.145354e-11</td>\n",
              "      <td>3.100156e-10</td>\n",
              "      <td>6.913792e-09</td>\n",
              "      <td>6.976262e-12</td>\n",
              "      <td>3.546751e-11</td>\n",
              "      <td>1.351786e-13</td>\n",
              "      <td>0</td>\n",
              "      <td>0</td>\n",
              "      <td>3.229227</td>\n",
              "      <td>1.594284</td>\n",
              "    </tr>\n",
              "    <tr>\n",
              "      <th>4</th>\n",
              "      <td>343678</td>\n",
              "      <td>1832188</td>\n",
              "      <td>1</td>\n",
              "      <td>0</td>\n",
              "      <td>0.184783</td>\n",
              "      <td>0.031158</td>\n",
              "      <td>0.370970</td>\n",
              "      <td>80</td>\n",
              "      <td>61</td>\n",
              "      <td>84</td>\n",
              "      <td>25</td>\n",
              "      <td>17</td>\n",
              "      <td>17</td>\n",
              "      <td>8.364215</td>\n",
              "      <td>0</td>\n",
              "      <td>1</td>\n",
              "      <td>2</td>\n",
              "      <td>0.127000</td>\n",
              "      <td>0.108465</td>\n",
              "      <td>0.235465</td>\n",
              "      <td>0.013775</td>\n",
              "      <td>0.362465</td>\n",
              "      <td>0.343931</td>\n",
              "      <td>5.905967e-07</td>\n",
              "      <td>6.646486e-07</td>\n",
              "      <td>0.001201</td>\n",
              "      <td>0.001115</td>\n",
              "      <td>6.138153e-06</td>\n",
              "      <td>3.990319e-07</td>\n",
              "      <td>1.280805e-06</td>\n",
              "      <td>1.703090e-06</td>\n",
              "      <td>-3.559380e-11</td>\n",
              "      <td>2.768845e-13</td>\n",
              "      <td>5.482255e-13</td>\n",
              "      <td>1.228470e-05</td>\n",
              "      <td>8.189501e-12</td>\n",
              "      <td>1.132447e-04</td>\n",
              "      <td>-8.377010e-12</td>\n",
              "      <td>9.145985e-14</td>\n",
              "      <td>6.285877e-13</td>\n",
              "      <td>1.689243e-06</td>\n",
              "      <td>3.515948e-12</td>\n",
              "      <td>7.361863e-06</td>\n",
              "      <td>-2.862504e-11</td>\n",
              "      <td>2.741198e-13</td>\n",
              "      <td>9.311936e-13</td>\n",
              "      <td>4.836770e-06</td>\n",
              "      <td>4.865427e-12</td>\n",
              "      <td>2.387303e-05</td>\n",
              "      <td>-1.517824e-11</td>\n",
              "      <td>2.078074e-13</td>\n",
              "      <td>3.568447e-13</td>\n",
              "      <td>4.309167e-06</td>\n",
              "      <td>2.783816e-12</td>\n",
              "      <td>3.174403e-05</td>\n",
              "      <td>0</td>\n",
              "      <td>0</td>\n",
              "      <td>3.229227</td>\n",
              "      <td>1.594284</td>\n",
              "    </tr>\n",
              "  </tbody>\n",
              "</table>\n",
              "</div>"
            ],
            "text/plain": [
              "   source_node  destination_node  ...  svd_u_dot_tr  svd_v_dot_tr\n",
              "0       273084           1505602  ...      3.229227      1.594284\n",
              "1       365429           1523458  ...      3.229227      1.594284\n",
              "2      1740713           1136962  ...      3.229227      1.594284\n",
              "3      1409029           1406493  ...      3.229227      1.594284\n",
              "4       343678           1832188  ...      3.229227      1.594284\n",
              "\n",
              "[5 rows x 59 columns]"
            ]
          },
          "metadata": {
            "tags": []
          },
          "execution_count": 16
        }
      ]
    },
    {
      "cell_type": "code",
      "metadata": {
        "id": "Lu8Fdh1bHdsI",
        "colab_type": "code",
        "colab": {}
      },
      "source": [
        ""
      ],
      "execution_count": 0,
      "outputs": []
    },
    {
      "cell_type": "markdown",
      "metadata": {
        "id": "SiKy5y1DCnIB",
        "colab_type": "text"
      },
      "source": [
        "# **Tune hyperparameters for XG boost with all these features and check the error metric.**"
      ]
    },
    {
      "cell_type": "code",
      "metadata": {
        "id": "ZxYzhvfaCsB8",
        "colab_type": "code",
        "colab": {}
      },
      "source": [
        "y_train = df_final_train.indicator_link\n",
        "y_test = df_final_test.indicator_link"
      ],
      "execution_count": 0,
      "outputs": []
    },
    {
      "cell_type": "code",
      "metadata": {
        "id": "jbkT1x9CCsEX",
        "colab_type": "code",
        "colab": {}
      },
      "source": [
        "df_final_train.drop(['source_node', 'destination_node','indicator_link'],axis=1,inplace=True)\n",
        "df_final_test.drop(['source_node', 'destination_node','indicator_link'],axis=1,inplace=True)"
      ],
      "execution_count": 0,
      "outputs": []
    },
    {
      "cell_type": "code",
      "metadata": {
        "id": "iEXT3YGsFxZL",
        "colab_type": "code",
        "colab": {}
      },
      "source": [
        "x_train = df_final_train.values\n",
        "x_test = df_final_test.values"
      ],
      "execution_count": 0,
      "outputs": []
    },
    {
      "cell_type": "code",
      "metadata": {
        "id": "LsER0eugC3v4",
        "colab_type": "code",
        "outputId": "dc3a98ae-bf70-4b72-e832-72b3c6f49529",
        "colab": {
          "base_uri": "https://localhost:8080/",
          "height": 468
        }
      },
      "source": [
        "import xgboost as xgb\n",
        "from sklearn.model_selection import RandomizedSearchCV\n",
        "para = {\n",
        "        'learning_rate': [0.001, 0.01, 0.1, 0.2, 0,3],\n",
        "        'max_depth': [1,2,5,8,10],\n",
        "        'n_estimators' : [100,150,200,350,400,500,700],\n",
        "        'gamma': [0, 0.25, 0.5, 1.0]\n",
        "        }\n",
        "clf = xgb.XGBClassifier(objective='binary:logistic', eval_metric='logloss',n_jobs=-1)\n",
        "xgbr = RandomizedSearchCV(clf, param_distributions = para,n_iter=30,\n",
        "                         scoring = 'neg_log_loss', n_jobs = 1,cv=3)\n",
        "xgbr.fit(x_train, y_train)"
      ],
      "execution_count": 20,
      "outputs": [
        {
          "output_type": "stream",
          "text": [
            "/usr/local/lib/python3.6/dist-packages/sklearn/model_selection/_search.py:813: DeprecationWarning: The default of the `iid` parameter will change from True to False in version 0.22 and will be removed in 0.24. This will change numeric results when test-set sizes are unequal.\n",
            "  DeprecationWarning)\n"
          ],
          "name": "stderr"
        },
        {
          "output_type": "execute_result",
          "data": {
            "text/plain": [
              "RandomizedSearchCV(cv=3, error_score='raise-deprecating',\n",
              "                   estimator=XGBClassifier(base_score=0.5, booster='gbtree',\n",
              "                                           colsample_bylevel=1,\n",
              "                                           colsample_bynode=1,\n",
              "                                           colsample_bytree=1,\n",
              "                                           eval_metric='logloss', gamma=0,\n",
              "                                           learning_rate=0.1, max_delta_step=0,\n",
              "                                           max_depth=3, min_child_weight=1,\n",
              "                                           missing=None, n_estimators=100,\n",
              "                                           n_jobs=-1, nthread=None,\n",
              "                                           objective='binary:logistic',\n",
              "                                           ran...\n",
              "                                           reg_lambda=1, scale_pos_weight=1,\n",
              "                                           seed=None, silent=None, subsample=1,\n",
              "                                           verbosity=1),\n",
              "                   iid='warn', n_iter=30, n_jobs=1,\n",
              "                   param_distributions={'gamma': [0, 0.25, 0.5, 1.0],\n",
              "                                        'learning_rate': [0.001, 0.01, 0.1, 0.2,\n",
              "                                                          0, 3],\n",
              "                                        'max_depth': [1, 2, 5, 8, 10],\n",
              "                                        'n_estimators': [100, 150, 200, 350,\n",
              "                                                         400, 500, 700]},\n",
              "                   pre_dispatch='2*n_jobs', random_state=None, refit=True,\n",
              "                   return_train_score=False, scoring='neg_log_loss', verbose=0)"
            ]
          },
          "metadata": {
            "tags": []
          },
          "execution_count": 20
        }
      ]
    },
    {
      "cell_type": "code",
      "metadata": {
        "id": "U9xPCWiWlOIe",
        "colab_type": "code",
        "outputId": "fc11bb00-0013-462d-c9c2-7e6213c093e1",
        "colab": {
          "base_uri": "https://localhost:8080/",
          "height": 34
        }
      },
      "source": [
        "xgbr.best_params_"
      ],
      "execution_count": 21,
      "outputs": [
        {
          "output_type": "execute_result",
          "data": {
            "text/plain": [
              "{'gamma': 0.5, 'learning_rate': 0.1, 'max_depth': 10, 'n_estimators': 200}"
            ]
          },
          "metadata": {
            "tags": []
          },
          "execution_count": 21
        }
      ]
    },
    {
      "cell_type": "code",
      "metadata": {
        "id": "zfk0ST2ZlYUP",
        "colab_type": "code",
        "outputId": "0647284b-5cbd-4f64-ff1e-83373bf8dc54",
        "colab": {
          "base_uri": "https://localhost:8080/",
          "height": 364
        }
      },
      "source": [
        "#Training with hyperparameters\n",
        "from sklearn.calibration import CalibratedClassifierCV\n",
        "clf = xgb.XGBClassifier(max_depth=10,learning_rate=0.1,objective='binary:logistic',gamma=0.5,n_estimators=200,n_jobs=-1)\n",
        "clf.fit(x_train, y_train)   \n",
        "model = CalibratedClassifierCV(clf, method=\"sigmoid\")\n",
        "model.fit(x_train, y_train)"
      ],
      "execution_count": 22,
      "outputs": [
        {
          "output_type": "execute_result",
          "data": {
            "text/plain": [
              "CalibratedClassifierCV(base_estimator=XGBClassifier(base_score=0.5,\n",
              "                                                    booster='gbtree',\n",
              "                                                    colsample_bylevel=1,\n",
              "                                                    colsample_bynode=1,\n",
              "                                                    colsample_bytree=1,\n",
              "                                                    gamma=0.5,\n",
              "                                                    learning_rate=0.1,\n",
              "                                                    max_delta_step=0,\n",
              "                                                    max_depth=10,\n",
              "                                                    min_child_weight=1,\n",
              "                                                    missing=None,\n",
              "                                                    n_estimators=200, n_jobs=-1,\n",
              "                                                    nthread=None,\n",
              "                                                    objective='binary:logistic',\n",
              "                                                    random_state=0, reg_alpha=0,\n",
              "                                                    reg_lambda=1,\n",
              "                                                    scale_pos_weight=1,\n",
              "                                                    seed=None, silent=None,\n",
              "                                                    subsample=1, verbosity=1),\n",
              "                       cv='warn', method='sigmoid')"
            ]
          },
          "metadata": {
            "tags": []
          },
          "execution_count": 22
        }
      ]
    },
    {
      "cell_type": "code",
      "metadata": {
        "id": "v287oMrc2Tfm",
        "colab_type": "code",
        "colab": {}
      },
      "source": [
        ""
      ],
      "execution_count": 0,
      "outputs": []
    },
    {
      "cell_type": "code",
      "metadata": {
        "id": "jnwgJ_ZP2Tio",
        "colab_type": "code",
        "colab": {}
      },
      "source": [
        ""
      ],
      "execution_count": 0,
      "outputs": []
    },
    {
      "cell_type": "code",
      "metadata": {
        "id": "87cj6L4g2Tlc",
        "colab_type": "code",
        "colab": {}
      },
      "source": [
        ""
      ],
      "execution_count": 0,
      "outputs": []
    },
    {
      "cell_type": "code",
      "metadata": {
        "id": "38E8j2xYCsKH",
        "colab_type": "code",
        "colab": {}
      },
      "source": [
        "y_train_pred = model.predict(df_final_train.values )"
      ],
      "execution_count": 0,
      "outputs": []
    },
    {
      "cell_type": "code",
      "metadata": {
        "id": "R5WyMUhqkUYL",
        "colab_type": "code",
        "colab": {}
      },
      "source": [
        "y_test_pred = model.predict(x_test)"
      ],
      "execution_count": 0,
      "outputs": []
    },
    {
      "cell_type": "code",
      "metadata": {
        "id": "CLoP-oZPCsMz",
        "colab_type": "code",
        "outputId": "96a84346-9212-44a4-c49a-3c67037c7681",
        "colab": {
          "base_uri": "https://localhost:8080/",
          "height": 52
        }
      },
      "source": [
        "from sklearn.metrics import f1_score\n",
        "print('Train f1 score',f1_score(y_train,y_train_pred))\n",
        "print('Test f1 score',f1_score(y_test,y_test_pred))"
      ],
      "execution_count": 25,
      "outputs": [
        {
          "output_type": "stream",
          "text": [
            "Train f1 score 0.9999700458298802\n",
            "Test f1 score 0.9232477209163304\n"
          ],
          "name": "stdout"
        }
      ]
    },
    {
      "cell_type": "code",
      "metadata": {
        "id": "yKzrkyhhpU23",
        "colab_type": "code",
        "colab": {}
      },
      "source": [
        "from sklearn.metrics import confusion_matrix\n",
        "def plot_confusion_matrix(test_y, predict_y):\n",
        "    C = confusion_matrix(test_y, predict_y)\n",
        "    \n",
        "    A =(((C.T)/(C.sum(axis=1))).T)\n",
        "    \n",
        "    B =(C/C.sum(axis=0))\n",
        "    plt.figure(figsize=(20,4))\n",
        "    \n",
        "    labels = [0,1]\n",
        "    # representing A in heatmap format\n",
        "    cmap=sns.light_palette(\"blue\")\n",
        "    plt.subplot(1, 3, 1)\n",
        "    sns.heatmap(C, annot=True, cmap=cmap, fmt=\".3f\", xticklabels=labels, yticklabels=labels)\n",
        "    plt.xlabel('Predicted Class')\n",
        "    plt.ylabel('Original Class')\n",
        "    plt.title(\"Confusion matrix\")\n",
        "    \n",
        "    plt.subplot(1, 3, 2)\n",
        "    sns.heatmap(B, annot=True, cmap=cmap, fmt=\".3f\", xticklabels=labels, yticklabels=labels)\n",
        "    plt.xlabel('Predicted Class')\n",
        "    plt.ylabel('Original Class')\n",
        "    plt.title(\"Precision matrix\")\n",
        "    \n",
        "    plt.subplot(1, 3, 3)\n",
        "    # representing B in heatmap format\n",
        "    sns.heatmap(A, annot=True, cmap=cmap, fmt=\".3f\", xticklabels=labels, yticklabels=labels)\n",
        "    plt.xlabel('Predicted Class')\n",
        "    plt.ylabel('Original Class')\n",
        "    plt.title(\"Recall matrix\")\n",
        "    \n",
        "    plt.show()"
      ],
      "execution_count": 0,
      "outputs": []
    },
    {
      "cell_type": "code",
      "metadata": {
        "id": "RthtQnf9CsPg",
        "colab_type": "code",
        "outputId": "3d404f4d-2aae-4b4b-8f18-f25c20d77fa5",
        "colab": {
          "base_uri": "https://localhost:8080/",
          "height": 609
        }
      },
      "source": [
        "print('Train confusion_matrix')\n",
        "plot_confusion_matrix(y_train,y_train_pred)\n",
        "print('Test confusion_matrix')\n",
        "plot_confusion_matrix(y_test,y_test_pred)"
      ],
      "execution_count": 27,
      "outputs": [
        {
          "output_type": "stream",
          "text": [
            "Train confusion_matrix\n"
          ],
          "name": "stdout"
        },
        {
          "output_type": "display_data",
          "data": {
            "image/png": "[encoded data removed]",
            "text/plain": [
              "<Figure size 1440x288 with 6 Axes>"
            ]
          },
          "metadata": {
            "tags": []
          }
        },
        {
          "output_type": "stream",
          "text": [
            "Test confusion_matrix\n"
          ],
          "name": "stdout"
        },
        {
          "output_type": "display_data",
          "data": {
            "image/png": "[encoded data removed]",
            "text/plain": [
              "<Figure size 1440x288 with 6 Axes>"
            ]
          },
          "metadata": {
            "tags": []
          }
        }
      ]
    },
    {
      "cell_type": "code",
      "metadata": {
        "id": "TM8xdwkyEuJf",
        "colab_type": "code",
        "outputId": "de8376bc-673a-40a8-8933-39a18cdaa4c2",
        "colab": {
          "base_uri": "https://localhost:8080/",
          "height": 296
        }
      },
      "source": [
        "from sklearn.metrics import roc_curve, auc\n",
        "fpr,tpr,ths = roc_curve(y_test,y_test_pred)\n",
        "auc_sc = auc(fpr, tpr)\n",
        "plt.plot(fpr, tpr, color='navy',label='ROC curve (area = %0.2f)' % auc_sc)\n",
        "plt.xlabel('False Positive Rate')\n",
        "plt.ylabel('True Positive Rate')\n",
        "plt.title('Receiver operating characteristic with test data')\n",
        "plt.legend()\n",
        "plt.show()"
      ],
      "execution_count": 28,
      "outputs": [
        {
          "output_type": "display_data",
          "data": {
            "image/png": "[encoded data removed]",
            "text/plain": [
              "<Figure size 432x288 with 1 Axes>"
            ]
          },
          "metadata": {
            "tags": []
          }
        }
      ]
    },
    {
      "cell_type": "code",
      "metadata": {
        "id": "zA5w9dOE2KwC",
        "colab_type": "code",
        "colab": {}
      },
      "source": [
        ""
      ],
      "execution_count": 0,
      "outputs": []
    },
    {
      "cell_type": "code",
      "metadata": {
        "id": "kxp5gev02KzH",
        "colab_type": "code",
        "colab": {}
      },
      "source": [
        ""
      ],
      "execution_count": 0,
      "outputs": []
    },
    {
      "cell_type": "code",
      "metadata": {
        "id": "JKu_FbX32K1p",
        "colab_type": "code",
        "colab": {}
      },
      "source": [
        ""
      ],
      "execution_count": 0,
      "outputs": []
    },
    {
      "cell_type": "code",
      "metadata": {
        "id": "AtpRL-1Q2K4Y",
        "colab_type": "code",
        "colab": {}
      },
      "source": [
        ""
      ],
      "execution_count": 0,
      "outputs": []
    },
    {
      "cell_type": "code",
      "metadata": {
        "id": "y4zYKCZS2K6u",
        "colab_type": "code",
        "colab": {}
      },
      "source": [
        ""
      ],
      "execution_count": 0,
      "outputs": []
    },
    {
      "cell_type": "code",
      "metadata": {
        "id": "ZhGGJyOR2K9P",
        "colab_type": "code",
        "colab": {}
      },
      "source": [
        ""
      ],
      "execution_count": 0,
      "outputs": []
    },
    {
      "cell_type": "markdown",
      "metadata": {
        "id": "QJdk0qQJ08zx",
        "colab_type": "text"
      },
      "source": [
        "# **Conclusion:**\n"
      ]
    },
    {
      "cell_type": "markdown",
      "metadata": {
        "id": "zVS2UXXu1Bcn",
        "colab_type": "text"
      },
      "source": [
        "As per assignment , a feature called Preferential Attachment with followers and followees data of vertex was calculated and added. Another feature SVD_DOT was added to the dataframe.Hyperparameter tuning was done on XGBoost and model was fit with optimal parameters. Error metrics are calculated.\n"
      ]
    }
  ]
}