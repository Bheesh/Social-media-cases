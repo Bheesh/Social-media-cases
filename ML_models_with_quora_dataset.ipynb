{
  "nbformat": 4,
  "nbformat_minor": 0,
  "metadata": {
    "colab": {
      "name": "ML_models with quora dataset.ipynb",
      "version": "0.3.2",
      "provenance": [],
      "collapsed_sections": []
    },
    "kernelspec": {
      "name": "python3",
      "display_name": "Python 3"
    },
    "accelerator": "GPU"
  },
  "cells": [
    {
      "cell_type": "code",
      "metadata": {
        "id": "6VXPfRp-tARR",
        "colab_type": "code",
        "outputId": "e4233f77-927b-4bb8-9cfa-43938d7fbbaa",
        "colab": {
          "base_uri": "https://localhost:8080/",
          "height": 50
        }
      },
      "source": [
        "import pandas as pd\n",
        "import matplotlib.pyplot as plt\n",
        "import re\n",
        "import time\n",
        "import warnings\n",
        "import sqlite3\n",
        "from sqlalchemy import create_engine # database connection\n",
        "import csv\n",
        "import os\n",
        "warnings.filterwarnings(\"ignore\")\n",
        "import datetime as dt\n",
        "import numpy as np\n",
        "from nltk.corpus import stopwords\n",
        "from sklearn.decomposition import TruncatedSVD\n",
        "from sklearn.preprocessing import normalize\n",
        "from sklearn.feature_extraction.text import CountVectorizer\n",
        "from sklearn.manifold import TSNE\n",
        "import seaborn as sns\n",
        "from sklearn.neighbors import KNeighborsClassifier\n",
        "from sklearn.metrics import confusion_matrix\n",
        "from sklearn.metrics.classification import accuracy_score, log_loss\n",
        "from sklearn.feature_extraction.text import TfidfVectorizer\n",
        "from collections import Counter\n",
        "from scipy.sparse import hstack\n",
        "from sklearn.multiclass import OneVsRestClassifier\n",
        "from sklearn.svm import SVC\n",
        "from sklearn.model_selection import StratifiedKFold \n",
        "from collections import Counter, defaultdict\n",
        "from sklearn.calibration import CalibratedClassifierCV\n",
        "from sklearn.naive_bayes import MultinomialNB\n",
        "from sklearn.naive_bayes import GaussianNB\n",
        "from sklearn.model_selection import train_test_split\n",
        "from sklearn.model_selection import GridSearchCV\n",
        "import math\n",
        "from sklearn.metrics import normalized_mutual_info_score\n",
        "from sklearn.ensemble import RandomForestClassifier\n",
        "\n",
        "\n",
        "\n",
        "from sklearn.model_selection import cross_val_score\n",
        "from sklearn.linear_model import SGDClassifier\n",
        "from mlxtend.classifier import StackingClassifier\n",
        "\n",
        "from sklearn import model_selection\n",
        "from sklearn.linear_model import LogisticRegression\n",
        "from sklearn.metrics import precision_recall_curve, auc, roc_curve"
      ],
      "execution_count": 0,
      "outputs": [
        {
          "output_type": "stream",
          "text": [
            "/usr/local/lib/python3.6/dist-packages/sklearn/externals/six.py:31: DeprecationWarning: The module is deprecated in version 0.21 and will be removed in version 0.23 since we've dropped support for Python 2.7. Please rely on the official version of six (https://pypi.org/project/six/).\n",
            "  \"(https://pypi.org/project/six/).\", DeprecationWarning)\n"
          ],
          "name": "stderr"
        }
      ]
    },
    {
      "cell_type": "markdown",
      "metadata": {
        "id": "ZihvUPvHtARd",
        "colab_type": "text"
      },
      "source": [
        "<h1>4. Machine Learning Models </h1>"
      ]
    },
    {
      "cell_type": "markdown",
      "metadata": {
        "id": "CtN9VBPutARf",
        "colab_type": "text"
      },
      "source": [
        "<h2> 4.1 Reading data from file and storing into sql table </h2>"
      ]
    },
    {
      "cell_type": "code",
      "metadata": {
        "id": "4hpD3aBktARn",
        "colab_type": "code",
        "colab": {}
      },
      "source": [
        "#http://www.sqlitetutorial.net/sqlite-python/create-tables/\n",
        "def create_connection(db_file):\n",
        "    \"\"\" create a database connection to the SQLite database\n",
        "        specified by db_file\n",
        "    :param db_file: database file\n",
        "    :return: Connection object or None\n",
        "    \"\"\"\n",
        "    try:\n",
        "        conn = sqlite3.connect(db_file)\n",
        "        return conn\n",
        "    except Error as e:\n",
        "        print(e)\n",
        " \n",
        "    return None\n",
        "\n",
        "\n",
        "def checkTableExists(dbcon):\n",
        "    cursr = dbcon.cursor()\n",
        "    str = \"select name from sqlite_master where type='table'\"\n",
        "    table_names = cursr.execute(str)\n",
        "    print(\"Tables in the databse:\")\n",
        "    tables =table_names.fetchall() \n",
        "    print(tables[0][0])\n",
        "    return(len(tables))"
      ],
      "execution_count": 0,
      "outputs": []
    },
    {
      "cell_type": "code",
      "metadata": {
        "id": "kBW-KZLAqm6m",
        "colab_type": "code",
        "outputId": "338d983a-b1d4-4488-8542-8513f337c7be",
        "colab": {
          "base_uri": "https://localhost:8080/",
          "height": 124
        }
      },
      "source": [
        "import sqlite3\n",
        "from google.colab import drive\n",
        "drive.mount('/content/drive')\n"
      ],
      "execution_count": 0,
      "outputs": [
        {
          "output_type": "stream",
          "text": [
            "Go to this URL in a browser: https://accounts.google.com/o/oauth2/auth?client_id=947318989803-6bn6qk8qdgf4n4g3pfee6491hc0brc4i.apps.googleusercontent.com&redirect_uri=urn%3Aietf%3Awg%3Aoauth%3A2.0%3Aoob&scope=email%20https%3A%2F%2Fwww.googleapis.com%2Fauth%2Fdocs.test%20https%3A%2F%2Fwww.googleapis.com%2Fauth%2Fdrive%20https%3A%2F%2Fwww.googleapis.com%2Fauth%2Fdrive.photos.readonly%20https%3A%2F%2Fwww.googleapis.com%2Fauth%2Fpeopleapi.readonly&response_type=code\n",
            "\n",
            "Enter your authorization code:\n",
            "··········\n",
            "Mounted at /content/drive\n"
          ],
          "name": "stdout"
        }
      ]
    },
    {
      "cell_type": "code",
      "metadata": {
        "id": "qWRRSKg_rwOG",
        "colab_type": "code",
        "colab": {}
      },
      "source": [
        "con = sqlite3.connect('/content/drive/My Drive/Asgn/train.db')"
      ],
      "execution_count": 0,
      "outputs": []
    },
    {
      "cell_type": "code",
      "metadata": {
        "id": "nR8ZIUnttARs",
        "colab_type": "code",
        "outputId": "dbd72a09-3714-4394-b4b2-8d3488fb4615",
        "colab": {
          "base_uri": "https://localhost:8080/",
          "height": 66
        }
      },
      "source": [
        "read_db = 'train.db'\n",
        "#conn_r = create_connection(read_db)\n",
        "checkTableExists(con)\n"
      ],
      "execution_count": 0,
      "outputs": [
        {
          "output_type": "stream",
          "text": [
            "Tables in the databse:\n",
            "data\n"
          ],
          "name": "stdout"
        },
        {
          "output_type": "execute_result",
          "data": {
            "text/plain": [
              "1"
            ]
          },
          "metadata": {
            "tags": []
          },
          "execution_count": 32
        }
      ]
    },
    {
      "cell_type": "code",
      "metadata": {
        "id": "CpYIUpZisIwW",
        "colab_type": "code",
        "colab": {}
      },
      "source": [
        "data = pd.read_sql_query(\"SELECT * From data ORDER BY RANDOM() LIMIT 100001;\", con)"
      ],
      "execution_count": 0,
      "outputs": []
    },
    {
      "cell_type": "code",
      "metadata": {
        "id": "QKSenpsmtAR9",
        "colab_type": "code",
        "outputId": "abf9735d-d495-4c30-f0ac-7e10839b7b03",
        "colab": {
          "base_uri": "https://localhost:8080/",
          "height": 255
        }
      },
      "source": [
        "data.head()"
      ],
      "execution_count": 0,
      "outputs": [
        {
          "output_type": "execute_result",
          "data": {
            "text/html": [
              "<div>\n",
              "<style scoped>\n",
              "    .dataframe tbody tr th:only-of-type {\n",
              "        vertical-align: middle;\n",
              "    }\n",
              "\n",
              "    .dataframe tbody tr th {\n",
              "        vertical-align: top;\n",
              "    }\n",
              "\n",
              "    .dataframe thead th {\n",
              "        text-align: right;\n",
              "    }\n",
              "</style>\n",
              "<table border=\"1\" class=\"dataframe\">\n",
              "  <thead>\n",
              "    <tr style=\"text-align: right;\">\n",
              "      <th></th>\n",
              "      <th>index</th>\n",
              "      <th>Unnamed: 0</th>\n",
              "      <th>id</th>\n",
              "      <th>is_duplicate</th>\n",
              "      <th>cwc_min</th>\n",
              "      <th>cwc_max</th>\n",
              "      <th>csc_min</th>\n",
              "      <th>csc_max</th>\n",
              "      <th>ctc_min</th>\n",
              "      <th>ctc_max</th>\n",
              "      <th>last_word_eq</th>\n",
              "      <th>first_word_eq</th>\n",
              "      <th>abs_len_diff</th>\n",
              "      <th>mean_len</th>\n",
              "      <th>token_set_ratio</th>\n",
              "      <th>token_sort_ratio</th>\n",
              "      <th>fuzz_ratio</th>\n",
              "      <th>fuzz_partial_ratio</th>\n",
              "      <th>longest_substr_ratio</th>\n",
              "      <th>freq_qid1</th>\n",
              "      <th>freq_qid2</th>\n",
              "      <th>q1len</th>\n",
              "      <th>q2len</th>\n",
              "      <th>q1_n_words</th>\n",
              "      <th>q2_n_words</th>\n",
              "      <th>word_Common</th>\n",
              "      <th>word_Total</th>\n",
              "      <th>word_share</th>\n",
              "      <th>freq_q1+q2</th>\n",
              "      <th>freq_q1-q2</th>\n",
              "      <th>0_x</th>\n",
              "      <th>1_x</th>\n",
              "      <th>2_x</th>\n",
              "      <th>3_x</th>\n",
              "      <th>4_x</th>\n",
              "      <th>5_x</th>\n",
              "      <th>6_x</th>\n",
              "      <th>7_x</th>\n",
              "      <th>8_x</th>\n",
              "      <th>9_x</th>\n",
              "      <th>...</th>\n",
              "      <th>344_y</th>\n",
              "      <th>345_y</th>\n",
              "      <th>346_y</th>\n",
              "      <th>347_y</th>\n",
              "      <th>348_y</th>\n",
              "      <th>349_y</th>\n",
              "      <th>350_y</th>\n",
              "      <th>351_y</th>\n",
              "      <th>352_y</th>\n",
              "      <th>353_y</th>\n",
              "      <th>354_y</th>\n",
              "      <th>355_y</th>\n",
              "      <th>356_y</th>\n",
              "      <th>357_y</th>\n",
              "      <th>358_y</th>\n",
              "      <th>359_y</th>\n",
              "      <th>360_y</th>\n",
              "      <th>361_y</th>\n",
              "      <th>362_y</th>\n",
              "      <th>363_y</th>\n",
              "      <th>364_y</th>\n",
              "      <th>365_y</th>\n",
              "      <th>366_y</th>\n",
              "      <th>367_y</th>\n",
              "      <th>368_y</th>\n",
              "      <th>369_y</th>\n",
              "      <th>370_y</th>\n",
              "      <th>371_y</th>\n",
              "      <th>372_y</th>\n",
              "      <th>373_y</th>\n",
              "      <th>374_y</th>\n",
              "      <th>375_y</th>\n",
              "      <th>376_y</th>\n",
              "      <th>377_y</th>\n",
              "      <th>378_y</th>\n",
              "      <th>379_y</th>\n",
              "      <th>380_y</th>\n",
              "      <th>381_y</th>\n",
              "      <th>382_y</th>\n",
              "      <th>383_y</th>\n",
              "    </tr>\n",
              "  </thead>\n",
              "  <tbody>\n",
              "    <tr>\n",
              "      <th>0</th>\n",
              "      <td>148326</td>\n",
              "      <td>148324.0</td>\n",
              "      <td>148324</td>\n",
              "      <td>1</td>\n",
              "      <td>0.799984000319994</td>\n",
              "      <td>0.799984000319994</td>\n",
              "      <td>0.666655555740738</td>\n",
              "      <td>0.571420408279882</td>\n",
              "      <td>0.727266115762584</td>\n",
              "      <td>0.666661111157407</td>\n",
              "      <td>0.0</td>\n",
              "      <td>1.0</td>\n",
              "      <td>1.0</td>\n",
              "      <td>11.5</td>\n",
              "      <td>83</td>\n",
              "      <td>71</td>\n",
              "      <td>66</td>\n",
              "      <td>68</td>\n",
              "      <td>0.310344827586207</td>\n",
              "      <td>4</td>\n",
              "      <td>3</td>\n",
              "      <td>57</td>\n",
              "      <td>61</td>\n",
              "      <td>11</td>\n",
              "      <td>12</td>\n",
              "      <td>6.0</td>\n",
              "      <td>23.0</td>\n",
              "      <td>0.260869565217391</td>\n",
              "      <td>7</td>\n",
              "      <td>1</td>\n",
              "      <td>2.99535025656223</td>\n",
              "      <td>81.0052576065064</td>\n",
              "      <td>72.2162759732455</td>\n",
              "      <td>127.454783678055</td>\n",
              "      <td>-16.8284819722176</td>\n",
              "      <td>79.8405883312225</td>\n",
              "      <td>-35.6265704333782</td>\n",
              "      <td>-36.1617116481066</td>\n",
              "      <td>42.3747211694717</td>\n",
              "      <td>38.8727232813835</td>\n",
              "      <td>...</td>\n",
              "      <td>-11.3156846016645</td>\n",
              "      <td>2.27614861400798</td>\n",
              "      <td>13.5685174465179</td>\n",
              "      <td>10.0108493119478</td>\n",
              "      <td>9.03498215228319</td>\n",
              "      <td>14.6791855165502</td>\n",
              "      <td>-8.22646885924041</td>\n",
              "      <td>8.19644975569099</td>\n",
              "      <td>-16.2773083597422</td>\n",
              "      <td>-4.10020682960749</td>\n",
              "      <td>7.8558311611414</td>\n",
              "      <td>-6.30888809263706</td>\n",
              "      <td>-6.92539179325104</td>\n",
              "      <td>-21.419191621244</td>\n",
              "      <td>-3.28887762874365</td>\n",
              "      <td>-20.5081413239241</td>\n",
              "      <td>-18.2814588584006</td>\n",
              "      <td>-6.89023451507092</td>\n",
              "      <td>0.595350327668712</td>\n",
              "      <td>10.9641032218933</td>\n",
              "      <td>-26.1569372117519</td>\n",
              "      <td>-0.580431875772774</td>\n",
              "      <td>4.72662079334259</td>\n",
              "      <td>4.5382681787014</td>\n",
              "      <td>5.71046382933855</td>\n",
              "      <td>14.8160029351711</td>\n",
              "      <td>-13.9409410059452</td>\n",
              "      <td>5.88404362648726</td>\n",
              "      <td>-0.366337336599827</td>\n",
              "      <td>-0.312069818377495</td>\n",
              "      <td>0.00827748328447342</td>\n",
              "      <td>13.7360498905182</td>\n",
              "      <td>7.66852301359177</td>\n",
              "      <td>-1.00631661433727</td>\n",
              "      <td>7.03801007755101</td>\n",
              "      <td>-3.91972321271896</td>\n",
              "      <td>-16.5832840998191</td>\n",
              "      <td>8.8980258256197</td>\n",
              "      <td>14.9125170409679</td>\n",
              "      <td>-0.796819280833006</td>\n",
              "    </tr>\n",
              "    <tr>\n",
              "      <th>1</th>\n",
              "      <td>128890</td>\n",
              "      <td>128888.0</td>\n",
              "      <td>128888</td>\n",
              "      <td>1</td>\n",
              "      <td>0.599988000239995</td>\n",
              "      <td>0.599988000239995</td>\n",
              "      <td>0.714275510349852</td>\n",
              "      <td>0.555549382784636</td>\n",
              "      <td>0.615379881693218</td>\n",
              "      <td>0.499996875019531</td>\n",
              "      <td>1.0</td>\n",
              "      <td>1.0</td>\n",
              "      <td>3.0</td>\n",
              "      <td>14.5</td>\n",
              "      <td>81</td>\n",
              "      <td>76</td>\n",
              "      <td>69</td>\n",
              "      <td>71</td>\n",
              "      <td>0.457627118644068</td>\n",
              "      <td>4</td>\n",
              "      <td>2</td>\n",
              "      <td>58</td>\n",
              "      <td>71</td>\n",
              "      <td>13</td>\n",
              "      <td>16</td>\n",
              "      <td>8.0</td>\n",
              "      <td>26.0</td>\n",
              "      <td>0.307692307692308</td>\n",
              "      <td>6</td>\n",
              "      <td>2</td>\n",
              "      <td>25.1918933391571</td>\n",
              "      <td>48.6200063228607</td>\n",
              "      <td>75.8219050168991</td>\n",
              "      <td>84.34220020473</td>\n",
              "      <td>8.0629677772522</td>\n",
              "      <td>-15.2696161568165</td>\n",
              "      <td>16.2480542063713</td>\n",
              "      <td>-58.4561445713043</td>\n",
              "      <td>17.0019124820828</td>\n",
              "      <td>20.3545722458512</td>\n",
              "      <td>...</td>\n",
              "      <td>-8.53724011778832</td>\n",
              "      <td>3.5302799269557</td>\n",
              "      <td>-22.7683596611023</td>\n",
              "      <td>13.7112737800926</td>\n",
              "      <td>28.9569245334715</td>\n",
              "      <td>-12.7405299395323</td>\n",
              "      <td>-13.2545213997364</td>\n",
              "      <td>28.2058743834496</td>\n",
              "      <td>-4.2701121121645</td>\n",
              "      <td>-2.54810556909069</td>\n",
              "      <td>9.7970820479095</td>\n",
              "      <td>13.2960404213518</td>\n",
              "      <td>7.16134133934975</td>\n",
              "      <td>-27.1752937138081</td>\n",
              "      <td>-1.90984376519918</td>\n",
              "      <td>-27.6066273543984</td>\n",
              "      <td>-13.0991953760386</td>\n",
              "      <td>24.8657997846603</td>\n",
              "      <td>16.6982342600822</td>\n",
              "      <td>-1.01564974710345</td>\n",
              "      <td>-45.6608705744147</td>\n",
              "      <td>-33.7974959164858</td>\n",
              "      <td>5.04631184786558</td>\n",
              "      <td>-9.00618724524975</td>\n",
              "      <td>19.280079767108</td>\n",
              "      <td>11.0939187407494</td>\n",
              "      <td>-1.75831251591444</td>\n",
              "      <td>21.5912123322487</td>\n",
              "      <td>-17.9849964566529</td>\n",
              "      <td>-1.89716180413961</td>\n",
              "      <td>9.52877409383655</td>\n",
              "      <td>-6.72403490543366</td>\n",
              "      <td>10.1159339249134</td>\n",
              "      <td>-11.9590798914433</td>\n",
              "      <td>-1.03050360269845</td>\n",
              "      <td>9.49347316473722</td>\n",
              "      <td>-9.74949796497822</td>\n",
              "      <td>3.1110478490591</td>\n",
              "      <td>15.7739846482873</td>\n",
              "      <td>2.74124613031745</td>\n",
              "    </tr>\n",
              "    <tr>\n",
              "      <th>2</th>\n",
              "      <td>11576</td>\n",
              "      <td>11574.0</td>\n",
              "      <td>11574</td>\n",
              "      <td>1</td>\n",
              "      <td>0.999980000399992</td>\n",
              "      <td>0.833319444675922</td>\n",
              "      <td>0.999980000399992</td>\n",
              "      <td>0.999980000399992</td>\n",
              "      <td>0.999990000099999</td>\n",
              "      <td>0.90908264470323</td>\n",
              "      <td>1.0</td>\n",
              "      <td>1.0</td>\n",
              "      <td>1.0</td>\n",
              "      <td>10.5</td>\n",
              "      <td>100</td>\n",
              "      <td>90</td>\n",
              "      <td>90</td>\n",
              "      <td>87</td>\n",
              "      <td>0.818181818181818</td>\n",
              "      <td>3</td>\n",
              "      <td>5</td>\n",
              "      <td>66</td>\n",
              "      <td>54</td>\n",
              "      <td>11</td>\n",
              "      <td>10</td>\n",
              "      <td>10.0</td>\n",
              "      <td>21.0</td>\n",
              "      <td>0.476190476190476</td>\n",
              "      <td>8</td>\n",
              "      <td>2</td>\n",
              "      <td>35.5868933796883</td>\n",
              "      <td>52.6990890800953</td>\n",
              "      <td>47.6210116147995</td>\n",
              "      <td>106.5530564785</td>\n",
              "      <td>-29.0741202831268</td>\n",
              "      <td>-9.76817756891251</td>\n",
              "      <td>-93.3503977060318</td>\n",
              "      <td>-60.9245547652245</td>\n",
              "      <td>47.1620235443115</td>\n",
              "      <td>19.3157760500908</td>\n",
              "      <td>...</td>\n",
              "      <td>-17.026842713356</td>\n",
              "      <td>-1.13054697960615</td>\n",
              "      <td>7.46551424264908</td>\n",
              "      <td>4.19690614938736</td>\n",
              "      <td>7.21408115327358</td>\n",
              "      <td>-6.92479808116332</td>\n",
              "      <td>-5.58771238103509</td>\n",
              "      <td>9.07521809032187</td>\n",
              "      <td>-18.1853927448392</td>\n",
              "      <td>2.56585624814033</td>\n",
              "      <td>7.70308172702789</td>\n",
              "      <td>2.87064172327518</td>\n",
              "      <td>-2.22228601574898</td>\n",
              "      <td>-21.3113708496094</td>\n",
              "      <td>-2.81284589134157</td>\n",
              "      <td>-15.7277707010508</td>\n",
              "      <td>-11.5506858229637</td>\n",
              "      <td>6.3980230987072</td>\n",
              "      <td>0.971711814403534</td>\n",
              "      <td>11.7061901148409</td>\n",
              "      <td>-12.4638404399157</td>\n",
              "      <td>1.5538858644577</td>\n",
              "      <td>4.27018736395985</td>\n",
              "      <td>3.17681342363358</td>\n",
              "      <td>7.24407380819321</td>\n",
              "      <td>-2.05362655222416</td>\n",
              "      <td>-19.5307990312576</td>\n",
              "      <td>15.3508540093899</td>\n",
              "      <td>-4.42657765932381</td>\n",
              "      <td>3.12435963749886</td>\n",
              "      <td>2.92695528268814</td>\n",
              "      <td>8.37032894045114</td>\n",
              "      <td>6.76576298475266</td>\n",
              "      <td>-2.52242068573833</td>\n",
              "      <td>9.47006590664387</td>\n",
              "      <td>-3.06361575424671</td>\n",
              "      <td>-12.6466747161467</td>\n",
              "      <td>7.88117441907525</td>\n",
              "      <td>2.53589111566544</td>\n",
              "      <td>-2.3258193731308</td>\n",
              "    </tr>\n",
              "    <tr>\n",
              "      <th>3</th>\n",
              "      <td>452489</td>\n",
              "      <td>272487.0</td>\n",
              "      <td>272487</td>\n",
              "      <td>1</td>\n",
              "      <td>0.999975000624984</td>\n",
              "      <td>0.799984000319994</td>\n",
              "      <td>0.999966667777741</td>\n",
              "      <td>0.499991666805553</td>\n",
              "      <td>0.874989062636717</td>\n",
              "      <td>0.583328472262731</td>\n",
              "      <td>0.0</td>\n",
              "      <td>1.0</td>\n",
              "      <td>4.0</td>\n",
              "      <td>10.0</td>\n",
              "      <td>100</td>\n",
              "      <td>80</td>\n",
              "      <td>73</td>\n",
              "      <td>74</td>\n",
              "      <td>0.361111111111111</td>\n",
              "      <td>6</td>\n",
              "      <td>6</td>\n",
              "      <td>35</td>\n",
              "      <td>52</td>\n",
              "      <td>8</td>\n",
              "      <td>12</td>\n",
              "      <td>5.0</td>\n",
              "      <td>18.0</td>\n",
              "      <td>0.277777777777778</td>\n",
              "      <td>12</td>\n",
              "      <td>0</td>\n",
              "      <td>-10.7618520706892</td>\n",
              "      <td>91.3606377057731</td>\n",
              "      <td>28.7249006032944</td>\n",
              "      <td>56.8853678703308</td>\n",
              "      <td>-7.89914393424988</td>\n",
              "      <td>15.4606138467789</td>\n",
              "      <td>-29.6889405250549</td>\n",
              "      <td>-40.749324798584</td>\n",
              "      <td>6.5287469830364</td>\n",
              "      <td>0.692931294441223</td>\n",
              "      <td>...</td>\n",
              "      <td>-4.52487578988075</td>\n",
              "      <td>-29.1241943836212</td>\n",
              "      <td>8.3788937702775</td>\n",
              "      <td>-2.35419072210789</td>\n",
              "      <td>5.85920152068138</td>\n",
              "      <td>0.451017137616873</td>\n",
              "      <td>-13.3700634390116</td>\n",
              "      <td>1.33042370714247</td>\n",
              "      <td>-18.3174469023943</td>\n",
              "      <td>-6.03922617435455</td>\n",
              "      <td>21.9543022289872</td>\n",
              "      <td>24.1486930847168</td>\n",
              "      <td>-4.96325699239969</td>\n",
              "      <td>-7.24010148341767</td>\n",
              "      <td>-5.58238007500768</td>\n",
              "      <td>-19.0743580721319</td>\n",
              "      <td>-7.57411926519126</td>\n",
              "      <td>-12.2356594949961</td>\n",
              "      <td>-11.2921912819147</td>\n",
              "      <td>-2.99791125208139</td>\n",
              "      <td>-16.2290418893099</td>\n",
              "      <td>-4.36199215054512</td>\n",
              "      <td>9.14264798909426</td>\n",
              "      <td>0.41759417578578</td>\n",
              "      <td>-4.65238261222839</td>\n",
              "      <td>18.7170230485499</td>\n",
              "      <td>10.5131042599678</td>\n",
              "      <td>-11.1316550970078</td>\n",
              "      <td>7.81283989548683</td>\n",
              "      <td>-10.5746428966522</td>\n",
              "      <td>8.99049377441406</td>\n",
              "      <td>-12.2607385367155</td>\n",
              "      <td>-11.8193112462759</td>\n",
              "      <td>7.10277378559113</td>\n",
              "      <td>8.56184178031981</td>\n",
              "      <td>2.23314928263426</td>\n",
              "      <td>-14.7167035341263</td>\n",
              "      <td>11.1437046863139</td>\n",
              "      <td>-2.58602549135685</td>\n",
              "      <td>-5.15914656221867</td>\n",
              "    </tr>\n",
              "    <tr>\n",
              "      <th>4</th>\n",
              "      <td>928286</td>\n",
              "      <td>388284.0</td>\n",
              "      <td>388284</td>\n",
              "      <td>1</td>\n",
              "      <td>0.799984000319994</td>\n",
              "      <td>0.666655555740738</td>\n",
              "      <td>0.999900009999</td>\n",
              "      <td>0.499975001249937</td>\n",
              "      <td>0.833319444675922</td>\n",
              "      <td>0.624992187597655</td>\n",
              "      <td>1.0</td>\n",
              "      <td>1.0</td>\n",
              "      <td>2.0</td>\n",
              "      <td>7.0</td>\n",
              "      <td>88</td>\n",
              "      <td>71</td>\n",
              "      <td>78</td>\n",
              "      <td>73</td>\n",
              "      <td>0.578947368421053</td>\n",
              "      <td>15</td>\n",
              "      <td>6</td>\n",
              "      <td>37</td>\n",
              "      <td>44</td>\n",
              "      <td>6</td>\n",
              "      <td>8</td>\n",
              "      <td>5.0</td>\n",
              "      <td>14.0</td>\n",
              "      <td>0.357142857142857</td>\n",
              "      <td>21</td>\n",
              "      <td>9</td>\n",
              "      <td>-22.2092206478119</td>\n",
              "      <td>5.42307233810425</td>\n",
              "      <td>-15.9813241958618</td>\n",
              "      <td>37.7777464389801</td>\n",
              "      <td>64.1404972076416</td>\n",
              "      <td>37.6273534297943</td>\n",
              "      <td>-69.3444859981537</td>\n",
              "      <td>8.75187110900879</td>\n",
              "      <td>53.9502920806408</td>\n",
              "      <td>-6.72224876284599</td>\n",
              "      <td>...</td>\n",
              "      <td>-13.7471454292536</td>\n",
              "      <td>-12.5066846311092</td>\n",
              "      <td>-25.9777500629425</td>\n",
              "      <td>18.1205695569515</td>\n",
              "      <td>25.4204936027527</td>\n",
              "      <td>-18.3231440000236</td>\n",
              "      <td>-5.1940780878067</td>\n",
              "      <td>2.57289846241474</td>\n",
              "      <td>-15.2659841775894</td>\n",
              "      <td>10.5228402018547</td>\n",
              "      <td>-0.0941881835460663</td>\n",
              "      <td>3.5772253125906</td>\n",
              "      <td>-0.952158138155937</td>\n",
              "      <td>-15.9274237155914</td>\n",
              "      <td>-12.0522368475795</td>\n",
              "      <td>-27.1187812685966</td>\n",
              "      <td>-11.1155887246132</td>\n",
              "      <td>11.9725812375546</td>\n",
              "      <td>4.39780107140541</td>\n",
              "      <td>11.47317892313</td>\n",
              "      <td>-22.0583318695426</td>\n",
              "      <td>-14.8974571824074</td>\n",
              "      <td>13.5746727734804</td>\n",
              "      <td>-6.70760405063629</td>\n",
              "      <td>22.8400237411261</td>\n",
              "      <td>2.92622654139996</td>\n",
              "      <td>-9.02015602588654</td>\n",
              "      <td>10.3944322317839</td>\n",
              "      <td>-8.18341279029846</td>\n",
              "      <td>-5.87462705373764</td>\n",
              "      <td>19.2168845888227</td>\n",
              "      <td>15.5437337905169</td>\n",
              "      <td>-1.03419917821884</td>\n",
              "      <td>-0.314902722835541</td>\n",
              "      <td>7.10864417254925</td>\n",
              "      <td>4.76892471313477</td>\n",
              "      <td>-4.91763454675674</td>\n",
              "      <td>6.42098973691464</td>\n",
              "      <td>-0.664004683494568</td>\n",
              "      <td>5.92222052812576</td>\n",
              "    </tr>\n",
              "  </tbody>\n",
              "</table>\n",
              "<p>5 rows × 798 columns</p>\n",
              "</div>"
            ],
            "text/plain": [
              "    index  Unnamed: 0  ...               382_y               383_y\n",
              "0  148326    148324.0  ...    14.9125170409679  -0.796819280833006\n",
              "1  128890    128888.0  ...    15.7739846482873    2.74124613031745\n",
              "2   11576     11574.0  ...    2.53589111566544    -2.3258193731308\n",
              "3  452489    272487.0  ...   -2.58602549135685   -5.15914656221867\n",
              "4  928286    388284.0  ...  -0.664004683494568    5.92222052812576\n",
              "\n",
              "[5 rows x 798 columns]"
            ]
          },
          "metadata": {
            "tags": []
          },
          "execution_count": 35
        }
      ]
    },
    {
      "cell_type": "code",
      "metadata": {
        "id": "ZkeBKktKtAR3",
        "colab_type": "code",
        "colab": {}
      },
      "source": [
        "# remove the first row \n",
        "data.drop(data.index[0], inplace=True)\n",
        "y_true = data['is_duplicate']\n",
        "data.drop(['Unnamed: 0', 'id','index','is_duplicate'], axis=1, inplace=True)"
      ],
      "execution_count": 0,
      "outputs": []
    },
    {
      "cell_type": "code",
      "metadata": {
        "id": "XfxcPT6jtASg",
        "colab_type": "code",
        "colab": {}
      },
      "source": [
        "# This function plots the confusion matrices given y_i, y_i_hat.\n",
        "def plot_confusion_matrix(test_y, predict_y):\n",
        "    C = confusion_matrix(test_y, predict_y)\n",
        "    # C = 9,9 matrix, each cell (i,j) represents number of points of class i are predicted class j\n",
        "    \n",
        "    A =(((C.T)/(C.sum(axis=1))).T)\n",
        "    \n",
        "    # sum of row elements = 1\n",
        "    \n",
        "    B =(C/C.sum(axis=0))\n",
        "    \n",
        "    labels = [1,2]\n",
        "    # representing A in heatmap format\n",
        "    cmap=sns.light_palette(\"blue\")\n",
        "    plt.subplot(1, 3, 1)\n",
        "    sns.heatmap(C, annot=True, cmap=cmap, fmt=\".3f\", xticklabels=labels, yticklabels=labels)\n",
        "    plt.xlabel('Predicted Class')\n",
        "    plt.ylabel('Original Class')\n",
        "    plt.title(\"Confusion matrix\")\n",
        "    \n",
        "    plt.subplot(1, 3, 2)\n",
        "    sns.heatmap(B, annot=True, cmap=cmap, fmt=\".3f\", xticklabels=labels, yticklabels=labels)\n",
        "    plt.xlabel('Predicted Class')\n",
        "    plt.ylabel('Original Class')\n",
        "    plt.title(\"Precision matrix\")\n",
        "    \n",
        "    plt.subplot(1, 3, 3)\n",
        "    # representing B in heatmap format\n",
        "    sns.heatmap(A, annot=True, cmap=cmap, fmt=\".3f\", xticklabels=labels, yticklabels=labels)\n",
        "    plt.xlabel('Predicted Class')\n",
        "    plt.ylabel('Original Class')\n",
        "    plt.title(\"Recall matrix\")\n",
        "    \n",
        "    plt.show()"
      ],
      "execution_count": 0,
      "outputs": []
    },
    {
      "cell_type": "markdown",
      "metadata": {
        "id": "Qmo2V0LNT64t",
        "colab_type": "text"
      },
      "source": [
        "**Importing datasets for datapoints**"
      ]
    },
    {
      "cell_type": "code",
      "metadata": {
        "id": "nBNjraAcgsLS",
        "colab_type": "code",
        "outputId": "d5360d58-a8ec-4b89-a3ab-c07646e4e123",
        "colab": {
          "base_uri": "https://localhost:8080/",
          "height": 52
        }
      },
      "source": [
        "!pip install -U -q PyDrive\n",
        "from pydrive.auth import GoogleAuth\n",
        "from pydrive.drive import GoogleDrive\n",
        "from google.colab import auth\n",
        "from oauth2client.client import GoogleCredentials\n",
        "# Authenticate and create the PyDrive client.\n",
        "auth.authenticate_user()\n",
        "gauth = GoogleAuth()\n",
        "gauth.credentials = GoogleCredentials.get_application_default()\n",
        "drive = GoogleDrive(gauth)"
      ],
      "execution_count": 0,
      "outputs": [
        {
          "output_type": "stream",
          "text": [
            "\u001b[?25l\r\u001b[K     |▎                               | 10kB 23.5MB/s eta 0:00:01\r\u001b[K     |▋                               | 20kB 24.7MB/s eta 0:00:01\r\u001b[K     |█                               | 30kB 29.4MB/s eta 0:00:01\r\u001b[K     |█▎                              | 40kB 33.1MB/s eta 0:00:01\r\u001b[K     |█▋                              | 51kB 36.2MB/s eta 0:00:01\r\u001b[K     |██                              | 61kB 39.9MB/s eta 0:00:01\r\u001b[K     |██▎                             | 71kB 39.2MB/s eta 0:00:01\r\u001b[K     |██▋                             | 81kB 39.8MB/s eta 0:00:01\r\u001b[K     |███                             | 92kB 41.7MB/s eta 0:00:01\r\u001b[K     |███▎                            | 102kB 43.3MB/s eta 0:00:01\r\u001b[K     |███▋                            | 112kB 43.3MB/s eta 0:00:01\r\u001b[K     |████                            | 122kB 43.3MB/s eta 0:00:01\r\u001b[K     |████▎                           | 133kB 43.3MB/s eta 0:00:01\r\u001b[K     |████▋                           | 143kB 43.3MB/s eta 0:00:01\r\u001b[K     |█████                           | 153kB 43.3MB/s eta 0:00:01\r\u001b[K     |█████▎                          | 163kB 43.3MB/s eta 0:00:01\r\u001b[K     |█████▋                          | 174kB 43.3MB/s eta 0:00:01\r\u001b[K     |██████                          | 184kB 43.3MB/s eta 0:00:01\r\u001b[K     |██████▎                         | 194kB 43.3MB/s eta 0:00:01\r\u001b[K     |██████▋                         | 204kB 43.3MB/s eta 0:00:01\r\u001b[K     |███████                         | 215kB 43.3MB/s eta 0:00:01\r\u001b[K     |███████▎                        | 225kB 43.3MB/s eta 0:00:01\r\u001b[K     |███████▋                        | 235kB 43.3MB/s eta 0:00:01\r\u001b[K     |████████                        | 245kB 43.3MB/s eta 0:00:01\r\u001b[K     |████████▎                       | 256kB 43.3MB/s eta 0:00:01\r\u001b[K     |████████▋                       | 266kB 43.3MB/s eta 0:00:01\r\u001b[K     |█████████                       | 276kB 43.3MB/s eta 0:00:01\r\u001b[K     |█████████▎                      | 286kB 43.3MB/s eta 0:00:01\r\u001b[K     |█████████▋                      | 296kB 43.3MB/s eta 0:00:01\r\u001b[K     |██████████                      | 307kB 43.3MB/s eta 0:00:01\r\u001b[K     |██████████▎                     | 317kB 43.3MB/s eta 0:00:01\r\u001b[K     |██████████▋                     | 327kB 43.3MB/s eta 0:00:01\r\u001b[K     |███████████                     | 337kB 43.3MB/s eta 0:00:01\r\u001b[K     |███████████▎                    | 348kB 43.3MB/s eta 0:00:01\r\u001b[K     |███████████▋                    | 358kB 43.3MB/s eta 0:00:01\r\u001b[K     |████████████                    | 368kB 43.3MB/s eta 0:00:01\r\u001b[K     |████████████▎                   | 378kB 43.3MB/s eta 0:00:01\r\u001b[K     |████████████▋                   | 389kB 43.3MB/s eta 0:00:01\r\u001b[K     |█████████████                   | 399kB 43.3MB/s eta 0:00:01\r\u001b[K     |█████████████▎                  | 409kB 43.3MB/s eta 0:00:01\r\u001b[K     |█████████████▋                  | 419kB 43.3MB/s eta 0:00:01\r\u001b[K     |██████████████                  | 430kB 43.3MB/s eta 0:00:01\r\u001b[K     |██████████████▎                 | 440kB 43.3MB/s eta 0:00:01\r\u001b[K     |██████████████▋                 | 450kB 43.3MB/s eta 0:00:01\r\u001b[K     |███████████████                 | 460kB 43.3MB/s eta 0:00:01\r\u001b[K     |███████████████▎                | 471kB 43.3MB/s eta 0:00:01\r\u001b[K     |███████████████▋                | 481kB 43.3MB/s eta 0:00:01\r\u001b[K     |████████████████                | 491kB 43.3MB/s eta 0:00:01\r\u001b[K     |████████████████▎               | 501kB 43.3MB/s eta 0:00:01\r\u001b[K     |████████████████▋               | 512kB 43.3MB/s eta 0:00:01\r\u001b[K     |█████████████████               | 522kB 43.3MB/s eta 0:00:01\r\u001b[K     |█████████████████▎              | 532kB 43.3MB/s eta 0:00:01\r\u001b[K     |█████████████████▋              | 542kB 43.3MB/s eta 0:00:01\r\u001b[K     |██████████████████              | 552kB 43.3MB/s eta 0:00:01\r\u001b[K     |██████████████████▎             | 563kB 43.3MB/s eta 0:00:01\r\u001b[K     |██████████████████▋             | 573kB 43.3MB/s eta 0:00:01\r\u001b[K     |███████████████████             | 583kB 43.3MB/s eta 0:00:01\r\u001b[K     |███████████████████▎            | 593kB 43.3MB/s eta 0:00:01\r\u001b[K     |███████████████████▋            | 604kB 43.3MB/s eta 0:00:01\r\u001b[K     |████████████████████            | 614kB 43.3MB/s eta 0:00:01\r\u001b[K     |████████████████████▎           | 624kB 43.3MB/s eta 0:00:01\r\u001b[K     |████████████████████▋           | 634kB 43.3MB/s eta 0:00:01\r\u001b[K     |█████████████████████           | 645kB 43.3MB/s eta 0:00:01\r\u001b[K     |█████████████████████▎          | 655kB 43.3MB/s eta 0:00:01\r\u001b[K     |█████████████████████▋          | 665kB 43.3MB/s eta 0:00:01\r\u001b[K     |██████████████████████          | 675kB 43.3MB/s eta 0:00:01\r\u001b[K     |██████████████████████▎         | 686kB 43.3MB/s eta 0:00:01\r\u001b[K     |██████████████████████▋         | 696kB 43.3MB/s eta 0:00:01\r\u001b[K     |███████████████████████         | 706kB 43.3MB/s eta 0:00:01\r\u001b[K     |███████████████████████▎        | 716kB 43.3MB/s eta 0:00:01\r\u001b[K     |███████████████████████▋        | 727kB 43.3MB/s eta 0:00:01\r\u001b[K     |████████████████████████        | 737kB 43.3MB/s eta 0:00:01\r\u001b[K     |████████████████████████▎       | 747kB 43.3MB/s eta 0:00:01\r\u001b[K     |████████████████████████▋       | 757kB 43.3MB/s eta 0:00:01\r\u001b[K     |████████████████████████▉       | 768kB 43.3MB/s eta 0:00:01\r\u001b[K     |█████████████████████████▏      | 778kB 43.3MB/s eta 0:00:01\r\u001b[K     |█████████████████████████▌      | 788kB 43.3MB/s eta 0:00:01\r\u001b[K     |█████████████████████████▉      | 798kB 43.3MB/s eta 0:00:01\r\u001b[K     |██████████████████████████▏     | 808kB 43.3MB/s eta 0:00:01\r\u001b[K     |██████████████████████████▌     | 819kB 43.3MB/s eta 0:00:01\r\u001b[K     |██████████████████████████▉     | 829kB 43.3MB/s eta 0:00:01\r\u001b[K     |███████████████████████████▏    | 839kB 43.3MB/s eta 0:00:01\r\u001b[K     |███████████████████████████▌    | 849kB 43.3MB/s eta 0:00:01\r\u001b[K     |███████████████████████████▉    | 860kB 43.3MB/s eta 0:00:01\r\u001b[K     |████████████████████████████▏   | 870kB 43.3MB/s eta 0:00:01\r\u001b[K     |████████████████████████████▌   | 880kB 43.3MB/s eta 0:00:01\r\u001b[K     |████████████████████████████▉   | 890kB 43.3MB/s eta 0:00:01\r\u001b[K     |█████████████████████████████▏  | 901kB 43.3MB/s eta 0:00:01\r\u001b[K     |█████████████████████████████▌  | 911kB 43.3MB/s eta 0:00:01\r\u001b[K     |█████████████████████████████▉  | 921kB 43.3MB/s eta 0:00:01\r\u001b[K     |██████████████████████████████▏ | 931kB 43.3MB/s eta 0:00:01\r\u001b[K     |██████████████████████████████▌ | 942kB 43.3MB/s eta 0:00:01\r\u001b[K     |██████████████████████████████▉ | 952kB 43.3MB/s eta 0:00:01\r\u001b[K     |███████████████████████████████▏| 962kB 43.3MB/s eta 0:00:01\r\u001b[K     |███████████████████████████████▌| 972kB 43.3MB/s eta 0:00:01\r\u001b[K     |███████████████████████████████▉| 983kB 43.3MB/s eta 0:00:01\r\u001b[K     |████████████████████████████████| 993kB 43.3MB/s \n",
            "\u001b[?25h  Building wheel for PyDrive (setup.py) ... \u001b[?25l\u001b[?25hdone\n"
          ],
          "name": "stdout"
        }
      ]
    },
    {
      "cell_type": "code",
      "metadata": {
        "id": "cBvTj0jFf6vn",
        "colab_type": "code",
        "colab": {}
      },
      "source": [
        "link = 'https://drive.google.com/open?id=1LT6nzrxL57gBn-4Q7UPc_stjXRlYokHF' # The shareable link"
      ],
      "execution_count": 0,
      "outputs": []
    },
    {
      "cell_type": "code",
      "metadata": {
        "id": "RUG2ncjFlV5l",
        "colab_type": "code",
        "colab": {}
      },
      "source": [
        "df1 = pd.read_csv('/content/drive/My Drive/Asgn/df_fe_without_preprocessing_train.csv',encoding='latin-1',)"
      ],
      "execution_count": 0,
      "outputs": []
    },
    {
      "cell_type": "code",
      "metadata": {
        "id": "1jF9AvHbf6-A",
        "colab_type": "code",
        "outputId": "2ae6e879-6ba4-4796-d385-e86088bc66ee",
        "colab": {
          "base_uri": "https://localhost:8080/",
          "height": 191
        }
      },
      "source": [
        "df1.head(5)"
      ],
      "execution_count": 0,
      "outputs": [
        {
          "output_type": "execute_result",
          "data": {
            "text/html": [
              "<div>\n",
              "<style scoped>\n",
              "    .dataframe tbody tr th:only-of-type {\n",
              "        vertical-align: middle;\n",
              "    }\n",
              "\n",
              "    .dataframe tbody tr th {\n",
              "        vertical-align: top;\n",
              "    }\n",
              "\n",
              "    .dataframe thead th {\n",
              "        text-align: right;\n",
              "    }\n",
              "</style>\n",
              "<table border=\"1\" class=\"dataframe\">\n",
              "  <thead>\n",
              "    <tr style=\"text-align: right;\">\n",
              "      <th></th>\n",
              "      <th>id</th>\n",
              "      <th>qid1</th>\n",
              "      <th>qid2</th>\n",
              "      <th>question1</th>\n",
              "      <th>question2</th>\n",
              "      <th>is_duplicate</th>\n",
              "      <th>freq_qid1</th>\n",
              "      <th>freq_qid2</th>\n",
              "      <th>q1len</th>\n",
              "      <th>q2len</th>\n",
              "      <th>q1_n_words</th>\n",
              "      <th>q2_n_words</th>\n",
              "      <th>word_Common</th>\n",
              "      <th>word_Total</th>\n",
              "      <th>word_share</th>\n",
              "      <th>freq_q1+q2</th>\n",
              "      <th>freq_q1-q2</th>\n",
              "    </tr>\n",
              "  </thead>\n",
              "  <tbody>\n",
              "    <tr>\n",
              "      <th>0</th>\n",
              "      <td>0</td>\n",
              "      <td>1</td>\n",
              "      <td>2</td>\n",
              "      <td>What is the step by step guide to invest in sh...</td>\n",
              "      <td>What is the step by step guide to invest in sh...</td>\n",
              "      <td>0</td>\n",
              "      <td>1</td>\n",
              "      <td>1</td>\n",
              "      <td>66</td>\n",
              "      <td>57</td>\n",
              "      <td>14</td>\n",
              "      <td>12</td>\n",
              "      <td>10.0</td>\n",
              "      <td>23.0</td>\n",
              "      <td>0.434783</td>\n",
              "      <td>2</td>\n",
              "      <td>0</td>\n",
              "    </tr>\n",
              "    <tr>\n",
              "      <th>1</th>\n",
              "      <td>1</td>\n",
              "      <td>3</td>\n",
              "      <td>4</td>\n",
              "      <td>What is the story of Kohinoor (Koh-i-Noor) Dia...</td>\n",
              "      <td>What would happen if the Indian government sto...</td>\n",
              "      <td>0</td>\n",
              "      <td>4</td>\n",
              "      <td>1</td>\n",
              "      <td>51</td>\n",
              "      <td>88</td>\n",
              "      <td>8</td>\n",
              "      <td>13</td>\n",
              "      <td>4.0</td>\n",
              "      <td>20.0</td>\n",
              "      <td>0.200000</td>\n",
              "      <td>5</td>\n",
              "      <td>3</td>\n",
              "    </tr>\n",
              "    <tr>\n",
              "      <th>2</th>\n",
              "      <td>2</td>\n",
              "      <td>5</td>\n",
              "      <td>6</td>\n",
              "      <td>How can I increase the speed of my internet co...</td>\n",
              "      <td>How can Internet speed be increased by hacking...</td>\n",
              "      <td>0</td>\n",
              "      <td>1</td>\n",
              "      <td>1</td>\n",
              "      <td>73</td>\n",
              "      <td>59</td>\n",
              "      <td>14</td>\n",
              "      <td>10</td>\n",
              "      <td>4.0</td>\n",
              "      <td>24.0</td>\n",
              "      <td>0.166667</td>\n",
              "      <td>2</td>\n",
              "      <td>0</td>\n",
              "    </tr>\n",
              "    <tr>\n",
              "      <th>3</th>\n",
              "      <td>3</td>\n",
              "      <td>7</td>\n",
              "      <td>8</td>\n",
              "      <td>Why am I mentally very lonely? How can I solve...</td>\n",
              "      <td>Find the remainder when [math]23^{24}[/math] i...</td>\n",
              "      <td>0</td>\n",
              "      <td>1</td>\n",
              "      <td>1</td>\n",
              "      <td>50</td>\n",
              "      <td>65</td>\n",
              "      <td>11</td>\n",
              "      <td>9</td>\n",
              "      <td>0.0</td>\n",
              "      <td>19.0</td>\n",
              "      <td>0.000000</td>\n",
              "      <td>2</td>\n",
              "      <td>0</td>\n",
              "    </tr>\n",
              "    <tr>\n",
              "      <th>4</th>\n",
              "      <td>4</td>\n",
              "      <td>9</td>\n",
              "      <td>10</td>\n",
              "      <td>Which one dissolve in water quikly sugar, salt...</td>\n",
              "      <td>Which fish would survive in salt water?</td>\n",
              "      <td>0</td>\n",
              "      <td>3</td>\n",
              "      <td>1</td>\n",
              "      <td>76</td>\n",
              "      <td>39</td>\n",
              "      <td>13</td>\n",
              "      <td>7</td>\n",
              "      <td>2.0</td>\n",
              "      <td>20.0</td>\n",
              "      <td>0.100000</td>\n",
              "      <td>4</td>\n",
              "      <td>2</td>\n",
              "    </tr>\n",
              "  </tbody>\n",
              "</table>\n",
              "</div>"
            ],
            "text/plain": [
              "   id  qid1  qid2  ... word_share freq_q1+q2  freq_q1-q2\n",
              "0   0     1     2  ...   0.434783          2           0\n",
              "1   1     3     4  ...   0.200000          5           3\n",
              "2   2     5     6  ...   0.166667          2           0\n",
              "3   3     7     8  ...   0.000000          2           0\n",
              "4   4     9    10  ...   0.100000          4           2\n",
              "\n",
              "[5 rows x 17 columns]"
            ]
          },
          "metadata": {
            "tags": []
          },
          "execution_count": 4
        }
      ]
    },
    {
      "cell_type": "code",
      "metadata": {
        "id": "svi4QS2Hf7BD",
        "colab_type": "code",
        "colab": {}
      },
      "source": [
        "df2 = pd.read_csv('/content/drive/My Drive/Asgn/nlp_features_train.csv',encoding='latin-1',)"
      ],
      "execution_count": 0,
      "outputs": []
    },
    {
      "cell_type": "code",
      "metadata": {
        "id": "AdDrsTIjf7Dr",
        "colab_type": "code",
        "outputId": "8834848b-627f-4b7c-c317-e412c0567762",
        "colab": {
          "base_uri": "https://localhost:8080/",
          "height": 272
        }
      },
      "source": [
        "df2.head(5)"
      ],
      "execution_count": 0,
      "outputs": [
        {
          "output_type": "execute_result",
          "data": {
            "text/html": [
              "<div>\n",
              "<style scoped>\n",
              "    .dataframe tbody tr th:only-of-type {\n",
              "        vertical-align: middle;\n",
              "    }\n",
              "\n",
              "    .dataframe tbody tr th {\n",
              "        vertical-align: top;\n",
              "    }\n",
              "\n",
              "    .dataframe thead th {\n",
              "        text-align: right;\n",
              "    }\n",
              "</style>\n",
              "<table border=\"1\" class=\"dataframe\">\n",
              "  <thead>\n",
              "    <tr style=\"text-align: right;\">\n",
              "      <th></th>\n",
              "      <th>id</th>\n",
              "      <th>qid1</th>\n",
              "      <th>qid2</th>\n",
              "      <th>question1</th>\n",
              "      <th>question2</th>\n",
              "      <th>is_duplicate</th>\n",
              "      <th>cwc_min</th>\n",
              "      <th>cwc_max</th>\n",
              "      <th>csc_min</th>\n",
              "      <th>csc_max</th>\n",
              "      <th>ctc_min</th>\n",
              "      <th>ctc_max</th>\n",
              "      <th>last_word_eq</th>\n",
              "      <th>first_word_eq</th>\n",
              "      <th>abs_len_diff</th>\n",
              "      <th>mean_len</th>\n",
              "      <th>token_set_ratio</th>\n",
              "      <th>token_sort_ratio</th>\n",
              "      <th>fuzz_ratio</th>\n",
              "      <th>fuzz_partial_ratio</th>\n",
              "      <th>longest_substr_ratio</th>\n",
              "    </tr>\n",
              "  </thead>\n",
              "  <tbody>\n",
              "    <tr>\n",
              "      <th>0</th>\n",
              "      <td>0</td>\n",
              "      <td>1</td>\n",
              "      <td>2</td>\n",
              "      <td>what is the step by step guide to invest in sh...</td>\n",
              "      <td>what is the step by step guide to invest in sh...</td>\n",
              "      <td>0</td>\n",
              "      <td>0.999980</td>\n",
              "      <td>0.833319</td>\n",
              "      <td>0.999983</td>\n",
              "      <td>0.999983</td>\n",
              "      <td>0.916659</td>\n",
              "      <td>0.785709</td>\n",
              "      <td>0.0</td>\n",
              "      <td>1.0</td>\n",
              "      <td>2.0</td>\n",
              "      <td>13.0</td>\n",
              "      <td>100</td>\n",
              "      <td>93</td>\n",
              "      <td>93</td>\n",
              "      <td>100</td>\n",
              "      <td>0.982759</td>\n",
              "    </tr>\n",
              "    <tr>\n",
              "      <th>1</th>\n",
              "      <td>1</td>\n",
              "      <td>3</td>\n",
              "      <td>4</td>\n",
              "      <td>what is the story of kohinoor  koh i noor  dia...</td>\n",
              "      <td>what would happen if the indian government sto...</td>\n",
              "      <td>0</td>\n",
              "      <td>0.799984</td>\n",
              "      <td>0.399996</td>\n",
              "      <td>0.749981</td>\n",
              "      <td>0.599988</td>\n",
              "      <td>0.699993</td>\n",
              "      <td>0.466664</td>\n",
              "      <td>0.0</td>\n",
              "      <td>1.0</td>\n",
              "      <td>5.0</td>\n",
              "      <td>12.5</td>\n",
              "      <td>86</td>\n",
              "      <td>63</td>\n",
              "      <td>66</td>\n",
              "      <td>75</td>\n",
              "      <td>0.596154</td>\n",
              "    </tr>\n",
              "    <tr>\n",
              "      <th>2</th>\n",
              "      <td>2</td>\n",
              "      <td>5</td>\n",
              "      <td>6</td>\n",
              "      <td>how can i increase the speed of my internet co...</td>\n",
              "      <td>how can internet speed be increased by hacking...</td>\n",
              "      <td>0</td>\n",
              "      <td>0.399992</td>\n",
              "      <td>0.333328</td>\n",
              "      <td>0.399992</td>\n",
              "      <td>0.249997</td>\n",
              "      <td>0.399996</td>\n",
              "      <td>0.285712</td>\n",
              "      <td>0.0</td>\n",
              "      <td>1.0</td>\n",
              "      <td>4.0</td>\n",
              "      <td>12.0</td>\n",
              "      <td>66</td>\n",
              "      <td>66</td>\n",
              "      <td>54</td>\n",
              "      <td>54</td>\n",
              "      <td>0.166667</td>\n",
              "    </tr>\n",
              "    <tr>\n",
              "      <th>3</th>\n",
              "      <td>3</td>\n",
              "      <td>7</td>\n",
              "      <td>8</td>\n",
              "      <td>why am i mentally very lonely  how can i solve...</td>\n",
              "      <td>find the remainder when  math 23  24   math  i...</td>\n",
              "      <td>0</td>\n",
              "      <td>0.000000</td>\n",
              "      <td>0.000000</td>\n",
              "      <td>0.000000</td>\n",
              "      <td>0.000000</td>\n",
              "      <td>0.000000</td>\n",
              "      <td>0.000000</td>\n",
              "      <td>0.0</td>\n",
              "      <td>0.0</td>\n",
              "      <td>2.0</td>\n",
              "      <td>12.0</td>\n",
              "      <td>36</td>\n",
              "      <td>36</td>\n",
              "      <td>35</td>\n",
              "      <td>40</td>\n",
              "      <td>0.039216</td>\n",
              "    </tr>\n",
              "    <tr>\n",
              "      <th>4</th>\n",
              "      <td>4</td>\n",
              "      <td>9</td>\n",
              "      <td>10</td>\n",
              "      <td>which one dissolve in water quikly sugar  salt...</td>\n",
              "      <td>which fish would survive in salt water</td>\n",
              "      <td>0</td>\n",
              "      <td>0.399992</td>\n",
              "      <td>0.199998</td>\n",
              "      <td>0.999950</td>\n",
              "      <td>0.666644</td>\n",
              "      <td>0.571420</td>\n",
              "      <td>0.307690</td>\n",
              "      <td>0.0</td>\n",
              "      <td>1.0</td>\n",
              "      <td>6.0</td>\n",
              "      <td>10.0</td>\n",
              "      <td>67</td>\n",
              "      <td>47</td>\n",
              "      <td>46</td>\n",
              "      <td>56</td>\n",
              "      <td>0.175000</td>\n",
              "    </tr>\n",
              "  </tbody>\n",
              "</table>\n",
              "</div>"
            ],
            "text/plain": [
              "   id  qid1  qid2  ... fuzz_ratio fuzz_partial_ratio  longest_substr_ratio\n",
              "0   0     1     2  ...         93                100              0.982759\n",
              "1   1     3     4  ...         66                 75              0.596154\n",
              "2   2     5     6  ...         54                 54              0.166667\n",
              "3   3     7     8  ...         35                 40              0.039216\n",
              "4   4     9    10  ...         46                 56              0.175000\n",
              "\n",
              "[5 rows x 21 columns]"
            ]
          },
          "metadata": {
            "tags": []
          },
          "execution_count": 6
        }
      ]
    },
    {
      "cell_type": "code",
      "metadata": {
        "id": "xf41SxC3ddsT",
        "colab_type": "code",
        "colab": {}
      },
      "source": [
        ""
      ],
      "execution_count": 0,
      "outputs": []
    },
    {
      "cell_type": "code",
      "metadata": {
        "id": "ippR3qYmdS4B",
        "colab_type": "code",
        "colab": {}
      },
      "source": [
        ""
      ],
      "execution_count": 0,
      "outputs": []
    },
    {
      "cell_type": "markdown",
      "metadata": {
        "id": "N0xW5B_eUC39",
        "colab_type": "text"
      },
      "source": [
        "**Merging dataframes to get needed features.**"
      ]
    },
    {
      "cell_type": "code",
      "metadata": {
        "id": "FBTC7HOTf7Gp",
        "colab_type": "code",
        "colab": {}
      },
      "source": [
        "df1 = df1.drop(['qid1','qid2'],axis=1)\n"
      ],
      "execution_count": 0,
      "outputs": []
    },
    {
      "cell_type": "code",
      "metadata": {
        "id": "hdn_EU2Of7Jm",
        "colab_type": "code",
        "colab": {}
      },
      "source": [
        "df2 = df2.drop(['qid1','qid2','question1','question2','is_duplicate'],axis=1)"
      ],
      "execution_count": 0,
      "outputs": []
    },
    {
      "cell_type": "code",
      "metadata": {
        "id": "-EYPp4uhf7Mx",
        "colab_type": "code",
        "colab": {}
      },
      "source": [
        "dfsum  = df1.merge(df2, on='id',how='left')"
      ],
      "execution_count": 0,
      "outputs": []
    },
    {
      "cell_type": "code",
      "metadata": {
        "id": "K0XzAxeprUOC",
        "colab_type": "code",
        "outputId": "bb049a2b-2587-4535-8502-ea14e233ed8c",
        "colab": {
          "base_uri": "https://localhost:8080/",
          "height": 617
        }
      },
      "source": [
        "dfsum.head(5)"
      ],
      "execution_count": 0,
      "outputs": [
        {
          "output_type": "execute_result",
          "data": {
            "text/html": [
              "<div>\n",
              "<style scoped>\n",
              "    .dataframe tbody tr th:only-of-type {\n",
              "        vertical-align: middle;\n",
              "    }\n",
              "\n",
              "    .dataframe tbody tr th {\n",
              "        vertical-align: top;\n",
              "    }\n",
              "\n",
              "    .dataframe thead th {\n",
              "        text-align: right;\n",
              "    }\n",
              "</style>\n",
              "<table border=\"1\" class=\"dataframe\">\n",
              "  <thead>\n",
              "    <tr style=\"text-align: right;\">\n",
              "      <th></th>\n",
              "      <th>id</th>\n",
              "      <th>question1</th>\n",
              "      <th>question2</th>\n",
              "      <th>is_duplicate</th>\n",
              "      <th>freq_qid1</th>\n",
              "      <th>freq_qid2</th>\n",
              "      <th>q1len</th>\n",
              "      <th>q2len</th>\n",
              "      <th>q1_n_words</th>\n",
              "      <th>q2_n_words</th>\n",
              "      <th>word_Common</th>\n",
              "      <th>word_Total</th>\n",
              "      <th>word_share</th>\n",
              "      <th>freq_q1+q2</th>\n",
              "      <th>freq_q1-q2</th>\n",
              "      <th>cwc_min</th>\n",
              "      <th>cwc_max</th>\n",
              "      <th>csc_min</th>\n",
              "      <th>csc_max</th>\n",
              "      <th>ctc_min</th>\n",
              "      <th>ctc_max</th>\n",
              "      <th>last_word_eq</th>\n",
              "      <th>first_word_eq</th>\n",
              "      <th>abs_len_diff</th>\n",
              "      <th>mean_len</th>\n",
              "      <th>token_set_ratio</th>\n",
              "      <th>token_sort_ratio</th>\n",
              "      <th>fuzz_ratio</th>\n",
              "      <th>fuzz_partial_ratio</th>\n",
              "      <th>longest_substr_ratio</th>\n",
              "    </tr>\n",
              "  </thead>\n",
              "  <tbody>\n",
              "    <tr>\n",
              "      <th>0</th>\n",
              "      <td>0</td>\n",
              "      <td>What is the step by step guide to invest in sh...</td>\n",
              "      <td>What is the step by step guide to invest in sh...</td>\n",
              "      <td>0</td>\n",
              "      <td>1</td>\n",
              "      <td>1</td>\n",
              "      <td>66</td>\n",
              "      <td>57</td>\n",
              "      <td>14</td>\n",
              "      <td>12</td>\n",
              "      <td>10.0</td>\n",
              "      <td>23.0</td>\n",
              "      <td>0.434783</td>\n",
              "      <td>2</td>\n",
              "      <td>0</td>\n",
              "      <td>0.999980</td>\n",
              "      <td>0.833319</td>\n",
              "      <td>0.999983</td>\n",
              "      <td>0.999983</td>\n",
              "      <td>0.916659</td>\n",
              "      <td>0.785709</td>\n",
              "      <td>0.0</td>\n",
              "      <td>1.0</td>\n",
              "      <td>2.0</td>\n",
              "      <td>13.0</td>\n",
              "      <td>100</td>\n",
              "      <td>93</td>\n",
              "      <td>93</td>\n",
              "      <td>100</td>\n",
              "      <td>0.982759</td>\n",
              "    </tr>\n",
              "    <tr>\n",
              "      <th>1</th>\n",
              "      <td>1</td>\n",
              "      <td>What is the story of Kohinoor (Koh-i-Noor) Dia...</td>\n",
              "      <td>What would happen if the Indian government sto...</td>\n",
              "      <td>0</td>\n",
              "      <td>4</td>\n",
              "      <td>1</td>\n",
              "      <td>51</td>\n",
              "      <td>88</td>\n",
              "      <td>8</td>\n",
              "      <td>13</td>\n",
              "      <td>4.0</td>\n",
              "      <td>20.0</td>\n",
              "      <td>0.200000</td>\n",
              "      <td>5</td>\n",
              "      <td>3</td>\n",
              "      <td>0.799984</td>\n",
              "      <td>0.399996</td>\n",
              "      <td>0.749981</td>\n",
              "      <td>0.599988</td>\n",
              "      <td>0.699993</td>\n",
              "      <td>0.466664</td>\n",
              "      <td>0.0</td>\n",
              "      <td>1.0</td>\n",
              "      <td>5.0</td>\n",
              "      <td>12.5</td>\n",
              "      <td>86</td>\n",
              "      <td>63</td>\n",
              "      <td>66</td>\n",
              "      <td>75</td>\n",
              "      <td>0.596154</td>\n",
              "    </tr>\n",
              "    <tr>\n",
              "      <th>2</th>\n",
              "      <td>2</td>\n",
              "      <td>How can I increase the speed of my internet co...</td>\n",
              "      <td>How can Internet speed be increased by hacking...</td>\n",
              "      <td>0</td>\n",
              "      <td>1</td>\n",
              "      <td>1</td>\n",
              "      <td>73</td>\n",
              "      <td>59</td>\n",
              "      <td>14</td>\n",
              "      <td>10</td>\n",
              "      <td>4.0</td>\n",
              "      <td>24.0</td>\n",
              "      <td>0.166667</td>\n",
              "      <td>2</td>\n",
              "      <td>0</td>\n",
              "      <td>0.399992</td>\n",
              "      <td>0.333328</td>\n",
              "      <td>0.399992</td>\n",
              "      <td>0.249997</td>\n",
              "      <td>0.399996</td>\n",
              "      <td>0.285712</td>\n",
              "      <td>0.0</td>\n",
              "      <td>1.0</td>\n",
              "      <td>4.0</td>\n",
              "      <td>12.0</td>\n",
              "      <td>66</td>\n",
              "      <td>66</td>\n",
              "      <td>54</td>\n",
              "      <td>54</td>\n",
              "      <td>0.166667</td>\n",
              "    </tr>\n",
              "    <tr>\n",
              "      <th>3</th>\n",
              "      <td>3</td>\n",
              "      <td>Why am I mentally very lonely? How can I solve...</td>\n",
              "      <td>Find the remainder when [math]23^{24}[/math] i...</td>\n",
              "      <td>0</td>\n",
              "      <td>1</td>\n",
              "      <td>1</td>\n",
              "      <td>50</td>\n",
              "      <td>65</td>\n",
              "      <td>11</td>\n",
              "      <td>9</td>\n",
              "      <td>0.0</td>\n",
              "      <td>19.0</td>\n",
              "      <td>0.000000</td>\n",
              "      <td>2</td>\n",
              "      <td>0</td>\n",
              "      <td>0.000000</td>\n",
              "      <td>0.000000</td>\n",
              "      <td>0.000000</td>\n",
              "      <td>0.000000</td>\n",
              "      <td>0.000000</td>\n",
              "      <td>0.000000</td>\n",
              "      <td>0.0</td>\n",
              "      <td>0.0</td>\n",
              "      <td>2.0</td>\n",
              "      <td>12.0</td>\n",
              "      <td>36</td>\n",
              "      <td>36</td>\n",
              "      <td>35</td>\n",
              "      <td>40</td>\n",
              "      <td>0.039216</td>\n",
              "    </tr>\n",
              "    <tr>\n",
              "      <th>4</th>\n",
              "      <td>4</td>\n",
              "      <td>Which one dissolve in water quikly sugar, salt...</td>\n",
              "      <td>Which fish would survive in salt water?</td>\n",
              "      <td>0</td>\n",
              "      <td>3</td>\n",
              "      <td>1</td>\n",
              "      <td>76</td>\n",
              "      <td>39</td>\n",
              "      <td>13</td>\n",
              "      <td>7</td>\n",
              "      <td>2.0</td>\n",
              "      <td>20.0</td>\n",
              "      <td>0.100000</td>\n",
              "      <td>4</td>\n",
              "      <td>2</td>\n",
              "      <td>0.399992</td>\n",
              "      <td>0.199998</td>\n",
              "      <td>0.999950</td>\n",
              "      <td>0.666644</td>\n",
              "      <td>0.571420</td>\n",
              "      <td>0.307690</td>\n",
              "      <td>0.0</td>\n",
              "      <td>1.0</td>\n",
              "      <td>6.0</td>\n",
              "      <td>10.0</td>\n",
              "      <td>67</td>\n",
              "      <td>47</td>\n",
              "      <td>46</td>\n",
              "      <td>56</td>\n",
              "      <td>0.175000</td>\n",
              "    </tr>\n",
              "  </tbody>\n",
              "</table>\n",
              "</div>"
            ],
            "text/plain": [
              "   id  ... longest_substr_ratio\n",
              "0   0  ...             0.982759\n",
              "1   1  ...             0.596154\n",
              "2   2  ...             0.166667\n",
              "3   3  ...             0.039216\n",
              "4   4  ...             0.175000\n",
              "\n",
              "[5 rows x 30 columns]"
            ]
          },
          "metadata": {
            "tags": []
          },
          "execution_count": 10
        }
      ]
    },
    {
      "cell_type": "code",
      "metadata": {
        "id": "G-KsNJowuZ0O",
        "colab_type": "code",
        "colab": {}
      },
      "source": [
        "from sklearn.utils import resample"
      ],
      "execution_count": 0,
      "outputs": []
    },
    {
      "cell_type": "code",
      "metadata": {
        "id": "nlaGDyt2sl2b",
        "colab_type": "code",
        "outputId": "24a47d1f-efa0-4f01-8877-1579fe7215a0",
        "colab": {
          "base_uri": "https://localhost:8080/",
          "height": 633
        }
      },
      "source": [
        "dfsum['question1'] = dfsum['question1'].apply(lambda x: str(x))\n",
        "dfsum['question2'] =dfsum['question2'].apply(lambda x: str(x))\n",
        "print(dfsum.shape)\n",
        "dfsum.head()"
      ],
      "execution_count": 0,
      "outputs": [
        {
          "output_type": "stream",
          "text": [
            "(404290, 30)\n"
          ],
          "name": "stdout"
        },
        {
          "output_type": "execute_result",
          "data": {
            "text/html": [
              "<div>\n",
              "<style scoped>\n",
              "    .dataframe tbody tr th:only-of-type {\n",
              "        vertical-align: middle;\n",
              "    }\n",
              "\n",
              "    .dataframe tbody tr th {\n",
              "        vertical-align: top;\n",
              "    }\n",
              "\n",
              "    .dataframe thead th {\n",
              "        text-align: right;\n",
              "    }\n",
              "</style>\n",
              "<table border=\"1\" class=\"dataframe\">\n",
              "  <thead>\n",
              "    <tr style=\"text-align: right;\">\n",
              "      <th></th>\n",
              "      <th>id</th>\n",
              "      <th>question1</th>\n",
              "      <th>question2</th>\n",
              "      <th>is_duplicate</th>\n",
              "      <th>freq_qid1</th>\n",
              "      <th>freq_qid2</th>\n",
              "      <th>q1len</th>\n",
              "      <th>q2len</th>\n",
              "      <th>q1_n_words</th>\n",
              "      <th>q2_n_words</th>\n",
              "      <th>word_Common</th>\n",
              "      <th>word_Total</th>\n",
              "      <th>word_share</th>\n",
              "      <th>freq_q1+q2</th>\n",
              "      <th>freq_q1-q2</th>\n",
              "      <th>cwc_min</th>\n",
              "      <th>cwc_max</th>\n",
              "      <th>csc_min</th>\n",
              "      <th>csc_max</th>\n",
              "      <th>ctc_min</th>\n",
              "      <th>ctc_max</th>\n",
              "      <th>last_word_eq</th>\n",
              "      <th>first_word_eq</th>\n",
              "      <th>abs_len_diff</th>\n",
              "      <th>mean_len</th>\n",
              "      <th>token_set_ratio</th>\n",
              "      <th>token_sort_ratio</th>\n",
              "      <th>fuzz_ratio</th>\n",
              "      <th>fuzz_partial_ratio</th>\n",
              "      <th>longest_substr_ratio</th>\n",
              "    </tr>\n",
              "  </thead>\n",
              "  <tbody>\n",
              "    <tr>\n",
              "      <th>0</th>\n",
              "      <td>0</td>\n",
              "      <td>What is the step by step guide to invest in sh...</td>\n",
              "      <td>What is the step by step guide to invest in sh...</td>\n",
              "      <td>0</td>\n",
              "      <td>1</td>\n",
              "      <td>1</td>\n",
              "      <td>66</td>\n",
              "      <td>57</td>\n",
              "      <td>14</td>\n",
              "      <td>12</td>\n",
              "      <td>10.0</td>\n",
              "      <td>23.0</td>\n",
              "      <td>0.434783</td>\n",
              "      <td>2</td>\n",
              "      <td>0</td>\n",
              "      <td>0.999980</td>\n",
              "      <td>0.833319</td>\n",
              "      <td>0.999983</td>\n",
              "      <td>0.999983</td>\n",
              "      <td>0.916659</td>\n",
              "      <td>0.785709</td>\n",
              "      <td>0.0</td>\n",
              "      <td>1.0</td>\n",
              "      <td>2.0</td>\n",
              "      <td>13.0</td>\n",
              "      <td>100</td>\n",
              "      <td>93</td>\n",
              "      <td>93</td>\n",
              "      <td>100</td>\n",
              "      <td>0.982759</td>\n",
              "    </tr>\n",
              "    <tr>\n",
              "      <th>1</th>\n",
              "      <td>1</td>\n",
              "      <td>What is the story of Kohinoor (Koh-i-Noor) Dia...</td>\n",
              "      <td>What would happen if the Indian government sto...</td>\n",
              "      <td>0</td>\n",
              "      <td>4</td>\n",
              "      <td>1</td>\n",
              "      <td>51</td>\n",
              "      <td>88</td>\n",
              "      <td>8</td>\n",
              "      <td>13</td>\n",
              "      <td>4.0</td>\n",
              "      <td>20.0</td>\n",
              "      <td>0.200000</td>\n",
              "      <td>5</td>\n",
              "      <td>3</td>\n",
              "      <td>0.799984</td>\n",
              "      <td>0.399996</td>\n",
              "      <td>0.749981</td>\n",
              "      <td>0.599988</td>\n",
              "      <td>0.699993</td>\n",
              "      <td>0.466664</td>\n",
              "      <td>0.0</td>\n",
              "      <td>1.0</td>\n",
              "      <td>5.0</td>\n",
              "      <td>12.5</td>\n",
              "      <td>86</td>\n",
              "      <td>63</td>\n",
              "      <td>66</td>\n",
              "      <td>75</td>\n",
              "      <td>0.596154</td>\n",
              "    </tr>\n",
              "    <tr>\n",
              "      <th>2</th>\n",
              "      <td>2</td>\n",
              "      <td>How can I increase the speed of my internet co...</td>\n",
              "      <td>How can Internet speed be increased by hacking...</td>\n",
              "      <td>0</td>\n",
              "      <td>1</td>\n",
              "      <td>1</td>\n",
              "      <td>73</td>\n",
              "      <td>59</td>\n",
              "      <td>14</td>\n",
              "      <td>10</td>\n",
              "      <td>4.0</td>\n",
              "      <td>24.0</td>\n",
              "      <td>0.166667</td>\n",
              "      <td>2</td>\n",
              "      <td>0</td>\n",
              "      <td>0.399992</td>\n",
              "      <td>0.333328</td>\n",
              "      <td>0.399992</td>\n",
              "      <td>0.249997</td>\n",
              "      <td>0.399996</td>\n",
              "      <td>0.285712</td>\n",
              "      <td>0.0</td>\n",
              "      <td>1.0</td>\n",
              "      <td>4.0</td>\n",
              "      <td>12.0</td>\n",
              "      <td>66</td>\n",
              "      <td>66</td>\n",
              "      <td>54</td>\n",
              "      <td>54</td>\n",
              "      <td>0.166667</td>\n",
              "    </tr>\n",
              "    <tr>\n",
              "      <th>3</th>\n",
              "      <td>3</td>\n",
              "      <td>Why am I mentally very lonely? How can I solve...</td>\n",
              "      <td>Find the remainder when [math]23^{24}[/math] i...</td>\n",
              "      <td>0</td>\n",
              "      <td>1</td>\n",
              "      <td>1</td>\n",
              "      <td>50</td>\n",
              "      <td>65</td>\n",
              "      <td>11</td>\n",
              "      <td>9</td>\n",
              "      <td>0.0</td>\n",
              "      <td>19.0</td>\n",
              "      <td>0.000000</td>\n",
              "      <td>2</td>\n",
              "      <td>0</td>\n",
              "      <td>0.000000</td>\n",
              "      <td>0.000000</td>\n",
              "      <td>0.000000</td>\n",
              "      <td>0.000000</td>\n",
              "      <td>0.000000</td>\n",
              "      <td>0.000000</td>\n",
              "      <td>0.0</td>\n",
              "      <td>0.0</td>\n",
              "      <td>2.0</td>\n",
              "      <td>12.0</td>\n",
              "      <td>36</td>\n",
              "      <td>36</td>\n",
              "      <td>35</td>\n",
              "      <td>40</td>\n",
              "      <td>0.039216</td>\n",
              "    </tr>\n",
              "    <tr>\n",
              "      <th>4</th>\n",
              "      <td>4</td>\n",
              "      <td>Which one dissolve in water quikly sugar, salt...</td>\n",
              "      <td>Which fish would survive in salt water?</td>\n",
              "      <td>0</td>\n",
              "      <td>3</td>\n",
              "      <td>1</td>\n",
              "      <td>76</td>\n",
              "      <td>39</td>\n",
              "      <td>13</td>\n",
              "      <td>7</td>\n",
              "      <td>2.0</td>\n",
              "      <td>20.0</td>\n",
              "      <td>0.100000</td>\n",
              "      <td>4</td>\n",
              "      <td>2</td>\n",
              "      <td>0.399992</td>\n",
              "      <td>0.199998</td>\n",
              "      <td>0.999950</td>\n",
              "      <td>0.666644</td>\n",
              "      <td>0.571420</td>\n",
              "      <td>0.307690</td>\n",
              "      <td>0.0</td>\n",
              "      <td>1.0</td>\n",
              "      <td>6.0</td>\n",
              "      <td>10.0</td>\n",
              "      <td>67</td>\n",
              "      <td>47</td>\n",
              "      <td>46</td>\n",
              "      <td>56</td>\n",
              "      <td>0.175000</td>\n",
              "    </tr>\n",
              "  </tbody>\n",
              "</table>\n",
              "</div>"
            ],
            "text/plain": [
              "   id  ... longest_substr_ratio\n",
              "0   0  ...             0.982759\n",
              "1   1  ...             0.596154\n",
              "2   2  ...             0.166667\n",
              "3   3  ...             0.039216\n",
              "4   4  ...             0.175000\n",
              "\n",
              "[5 rows x 30 columns]"
            ]
          },
          "metadata": {
            "tags": []
          },
          "execution_count": 11
        }
      ]
    },
    {
      "cell_type": "code",
      "metadata": {
        "id": "QsJKQ0I__M3P",
        "colab_type": "code",
        "colab": {}
      },
      "source": [
        "df1 = df1.fillna('')\n",
        "nan_rows = df1[df1.isnull().any(1)]"
      ],
      "execution_count": 0,
      "outputs": []
    },
    {
      "cell_type": "code",
      "metadata": {
        "id": "pXFK0Wl1_lyy",
        "colab_type": "code",
        "colab": {}
      },
      "source": [
        "df1['question1'] = df1['question1'].apply(lambda x: str(x))\n",
        "df1['question2'] = df1['question2'].apply(lambda x: str(x))"
      ],
      "execution_count": 0,
      "outputs": []
    },
    {
      "cell_type": "code",
      "metadata": {
        "id": "bD0fZCPU-6d2",
        "colab_type": "code",
        "colab": {}
      },
      "source": [
        "from sklearn.feature_extraction.text import TfidfVectorizer\n",
        "from sklearn.feature_extraction.text import CountVectorizer\n",
        "# merge texts\n",
        "questions = list(df1['question1']) + list(df1['question2'])\n",
        "\n",
        "tfidf = TfidfVectorizer(lowercase=False,)\n",
        "tfidf.fit_transform(questions)\n",
        "\n",
        "# dict key:word and value:tf-idf score\n",
        "word2tfidf = dict(zip(tfidf.get_feature_names(), tfidf.idf_))"
      ],
      "execution_count": 0,
      "outputs": []
    },
    {
      "cell_type": "markdown",
      "metadata": {
        "id": "R2sv70SH_LlW",
        "colab_type": "text"
      },
      "source": [
        ""
      ]
    },
    {
      "cell_type": "code",
      "metadata": {
        "id": "1IFOe-LVtANW",
        "colab_type": "code",
        "outputId": "9e148236-2fe5-4ef3-f8e1-68ba108e3ad8",
        "colab": {
          "base_uri": "https://localhost:8080/",
          "height": 33
        }
      },
      "source": [
        "datasmpl = dfsum.sample(n=100000,random_state = 42)\n",
        "datasmpl.shape"
      ],
      "execution_count": 0,
      "outputs": [
        {
          "output_type": "execute_result",
          "data": {
            "text/plain": [
              "(100000, 30)"
            ]
          },
          "metadata": {
            "tags": []
          },
          "execution_count": 49
        }
      ]
    },
    {
      "cell_type": "code",
      "metadata": {
        "id": "hBDFvjxGrUT0",
        "colab_type": "code",
        "outputId": "23225e41-56da-44c2-b916-a5bdaeedbc24",
        "colab": {
          "base_uri": "https://localhost:8080/",
          "height": 33
        }
      },
      "source": [
        "y = datasmpl['is_duplicate']\n",
        "y.shape"
      ],
      "execution_count": 0,
      "outputs": [
        {
          "output_type": "execute_result",
          "data": {
            "text/plain": [
              "(100000,)"
            ]
          },
          "metadata": {
            "tags": []
          },
          "execution_count": 50
        }
      ]
    },
    {
      "cell_type": "markdown",
      "metadata": {
        "id": "cax294I4EhiS",
        "colab_type": "text"
      },
      "source": [
        "Splitting into train and test sets"
      ]
    },
    {
      "cell_type": "code",
      "metadata": {
        "id": "Hsx2fvM9akEr",
        "colab_type": "code",
        "colab": {}
      },
      "source": [
        "from sklearn.model_selection import train_test_split\n",
        "X_train, X_test, y_train, y_test = train_test_split(datasmpl, y, shuffle=True, stratify=y, test_size=0.3)"
      ],
      "execution_count": 0,
      "outputs": []
    },
    {
      "cell_type": "code",
      "metadata": {
        "id": "qpwiKG0YyLgI",
        "colab_type": "code",
        "outputId": "63cb6d74-2b02-41e3-ab7c-6a3e884e01c8",
        "colab": {
          "base_uri": "https://localhost:8080/",
          "height": 50
        }
      },
      "source": [
        "print(\"Number of data points in train set :\",X_train.shape)\n",
        "print(\"Number of data points in test set :\",X_test.shape)"
      ],
      "execution_count": 0,
      "outputs": [
        {
          "output_type": "stream",
          "text": [
            "Number of data points in train set : (70000, 30)\n",
            "Number of data points in test set : (30000, 30)\n"
          ],
          "name": "stdout"
        }
      ]
    },
    {
      "cell_type": "code",
      "metadata": {
        "id": "M2-0Qtt2yX6H",
        "colab_type": "code",
        "outputId": "3d23f8bd-6d62-466f-90cb-17283472d25b",
        "colab": {
          "base_uri": "https://localhost:8080/",
          "height": 82
        }
      },
      "source": [
        "print(\"-\"*10, \"Distribution of output variable in train data\", \"-\"*10)\n",
        "train_distr = Counter(y_train)\n",
        "train_len = len(y_train)\n",
        "print(\"Class 0: \",int(train_distr[0])/train_len,\"Class 1: \", int(train_distr[1])/train_len)\n",
        "print(\"-\"*10, \"Distribution of output variable in train data\", \"-\"*10)\n",
        "test_distr = Counter(y_test)\n",
        "test_len = len(y_test)\n",
        "print(\"Class 0: \",int(test_distr[1])/test_len, \"Class 1: \",int(test_distr[1])/test_len)"
      ],
      "execution_count": 0,
      "outputs": [
        {
          "output_type": "stream",
          "text": [
            "---------- Distribution of output variable in train data ----------\n",
            "Class 0:  0.6287857142857143 Class 1:  0.3712142857142857\n",
            "---------- Distribution of output variable in train data ----------\n",
            "Class 0:  0.3712 Class 1:  0.3712\n"
          ],
          "name": "stdout"
        }
      ]
    },
    {
      "cell_type": "markdown",
      "metadata": {
        "id": "g2xLl9L7gnSh",
        "colab_type": "text"
      },
      "source": [
        "# **Using TF-IDF vectors**"
      ]
    },
    {
      "cell_type": "code",
      "metadata": {
        "id": "m7Pc6jgCyqIC",
        "colab_type": "code",
        "colab": {}
      },
      "source": [
        "import scipy.sparse\n",
        "from sklearn.feature_extraction.text import TfidfVectorizer\n",
        "#question 1\n",
        "tfidfvect = TfidfVectorizer(lowercase=False,max_features= 20000)\n",
        "q1 = tfidfvect.fit_transform(X_train['question1'])\n",
        "qts1  = tfidfvect.transform(X_test['question1'])\n",
        "#question 2\n",
        "q2 = tfidfvect.fit_transform(X_train['question2'])\n",
        "qts2  = tfidfvect.transform(X_test['question2'])\n"
      ],
      "execution_count": 0,
      "outputs": []
    },
    {
      "cell_type": "code",
      "metadata": {
        "id": "zr2VDOWizXNi",
        "colab_type": "code",
        "outputId": "48b3d81c-f3bd-4b44-80b0-95b76dfb4a40",
        "colab": {
          "base_uri": "https://localhost:8080/",
          "height": 86
        }
      },
      "source": [
        "print(q1.shape)\n",
        "print(qts1.shape)\n",
        "print(q2.shape)\n",
        "print(qts2.shape)"
      ],
      "execution_count": 0,
      "outputs": [
        {
          "output_type": "stream",
          "text": [
            "(70000, 20000)\n",
            "(30000, 20000)\n",
            "(70000, 20000)\n",
            "(30000, 20000)\n"
          ],
          "name": "stdout"
        }
      ]
    },
    {
      "cell_type": "code",
      "metadata": {
        "id": "ibUFpHbBzuMZ",
        "colab_type": "code",
        "colab": {}
      },
      "source": [
        "#Using hstack to stack into columns\n",
        "tfidftr = hstack((q1,q2))\n",
        "tfidfts = hstack((qts1,qts2))"
      ],
      "execution_count": 0,
      "outputs": []
    },
    {
      "cell_type": "code",
      "metadata": {
        "id": "lxcVhO7Mzu2H",
        "colab_type": "code",
        "colab": {}
      },
      "source": [
        "#Selecting features for modelling\n",
        "trfeat = X_train.drop(['id','question1','question2','is_duplicate'], axis=1, inplace=False)\n",
        "tsfeat = X_test.drop(['id','question1','question2','is_duplicate'], axis=1, inplace=False)"
      ],
      "execution_count": 0,
      "outputs": []
    },
    {
      "cell_type": "code",
      "metadata": {
        "id": "VT6QSeywzu7L",
        "colab_type": "code",
        "colab": {}
      },
      "source": [
        "#Converting to sparse matrix\n",
        "trsparse = scipy.sparse.csr_matrix(trfeat)\n",
        "tssparse = scipy.sparse.csr_matrix(tsfeat)"
      ],
      "execution_count": 0,
      "outputs": []
    },
    {
      "cell_type": "code",
      "metadata": {
        "id": "bT_zWD7YzvFX",
        "colab_type": "code",
        "outputId": "9c8457c9-b8f5-498b-b125-7537ceda5ac9",
        "colab": {
          "base_uri": "https://localhost:8080/",
          "height": 34
        }
      },
      "source": [
        "#Stacking matrices\n",
        "X_train = hstack((trsparse,tfidftr))\n",
        "X_train.shape\n",
        "X_test = hstack((tssparse,tfidfts))\n",
        "X_test.shape"
      ],
      "execution_count": 0,
      "outputs": [
        {
          "output_type": "execute_result",
          "data": {
            "text/plain": [
              "(30000, 40026)"
            ]
          },
          "metadata": {
            "tags": []
          },
          "execution_count": 62
        }
      ]
    },
    {
      "cell_type": "code",
      "metadata": {
        "id": "QAfjpUIqzvDF",
        "colab_type": "code",
        "colab": {}
      },
      "source": [
        ""
      ],
      "execution_count": 0,
      "outputs": []
    },
    {
      "cell_type": "code",
      "metadata": {
        "id": "if3ahZ3czvAg",
        "colab_type": "code",
        "colab": {}
      },
      "source": [
        ""
      ],
      "execution_count": 0,
      "outputs": []
    },
    {
      "cell_type": "code",
      "metadata": {
        "id": "aIE1fP-hzu-I",
        "colab_type": "code",
        "colab": {}
      },
      "source": [
        ""
      ],
      "execution_count": 0,
      "outputs": []
    },
    {
      "cell_type": "markdown",
      "metadata": {
        "id": "cwZwb8z6UXMD",
        "colab_type": "text"
      },
      "source": [
        "**Applying models on dataset**"
      ]
    },
    {
      "cell_type": "markdown",
      "metadata": {
        "id": "VmQJjDDNDJh8",
        "colab_type": "text"
      },
      "source": [
        "Logistic Regression"
      ]
    },
    {
      "cell_type": "code",
      "metadata": {
        "id": "h6g3DMNigsQJ",
        "colab_type": "code",
        "outputId": "dc753540-75c4-4f23-b0f7-9c5d8ba768fd",
        "colab": {
          "base_uri": "https://localhost:8080/",
          "height": 748
        }
      },
      "source": [
        "alpha = [10 ** x for x in range(-5, 2)] # hyperparam for SGD classifier.\n",
        "\n",
        "log_error_array=[]\n",
        "for i in alpha:\n",
        "    clf = SGDClassifier(alpha=i, penalty='l2', loss='log', random_state=42,class_weight='balanced')\n",
        "    clf.fit(X_train, y_train)\n",
        "    sig_clf = CalibratedClassifierCV(clf, method=\"sigmoid\")\n",
        "    sig_clf.fit(X_train, y_train)\n",
        "    predict_y = sig_clf.predict_proba(X_test)\n",
        "    log_error_array.append(log_loss(y_test, predict_y, labels=clf.classes_, eps=1e-15))\n",
        "    print('For values of alpha = ', i, \"The log loss is:\",log_loss(y_test, predict_y, labels=clf.classes_, eps=1e-15))\n",
        "\n",
        "fig, ax = plt.subplots()\n",
        "ax.plot(alpha, log_error_array,c='g')\n",
        "for i, txt in enumerate(np.round(log_error_array,3)):\n",
        "    ax.annotate((alpha[i],np.round(txt,3)), (alpha[i],log_error_array[i]))\n",
        "plt.grid()\n",
        "plt.title(\"Cross Validation Error for each alpha\")\n",
        "plt.xlabel(\"Alpha i's\")\n",
        "plt.ylabel(\"Error measure\")\n",
        "plt.show()\n",
        "\n",
        "\n",
        "best_alpha = np.argmin(log_error_array)\n",
        "clf = SGDClassifier(alpha=alpha[best_alpha], penalty='l2', loss='log', random_state=42)\n",
        "clf.fit(X_train, y_train)\n",
        "sig_clf = CalibratedClassifierCV(clf, method=\"sigmoid\")\n",
        "sig_clf.fit(X_train, y_train)\n",
        "\n",
        "predict_y = sig_clf.predict_proba(X_train)\n",
        "print('For values of best alpha = ', alpha[best_alpha], \"The train log loss is:\",log_loss(y_train, predict_y, labels=clf.classes_, eps=1e-15))\n",
        "predict_y = sig_clf.predict_proba(X_test)\n",
        "print('For values of best alpha = ', alpha[best_alpha], \"The test log loss is:\",log_loss(y_test, predict_y, labels=clf.classes_, eps=1e-15))\n",
        "predicted_y =np.argmax(predict_y,axis=1)\n",
        "print(\"Total number of data points :\", len(predicted_y))\n",
        "plot_confusion_matrix(y_test, predicted_y)"
      ],
      "execution_count": 0,
      "outputs": [
        {
          "output_type": "stream",
          "text": [
            "For values of alpha =  1e-05 The log loss is: 0.4129760714727073\n",
            "For values of alpha =  0.0001 The log loss is: 0.4157091503680285\n",
            "For values of alpha =  0.001 The log loss is: 0.4231509268265521\n",
            "For values of alpha =  0.01 The log loss is: 0.4447065320990022\n",
            "For values of alpha =  0.1 The log loss is: 0.4617331822379027\n",
            "For values of alpha =  1 The log loss is: 0.49091976162442597\n",
            "For values of alpha =  10 The log loss is: 0.5378679458860072\n"
          ],
          "name": "stdout"
        },
        {
          "output_type": "display_data",
          "data": {
            "image/png": "[encoded data removed]",
            "text/plain": [
              "<Figure size 432x288 with 1 Axes>"
            ]
          },
          "metadata": {
            "tags": []
          }
        },
        {
          "output_type": "stream",
          "text": [
            "For values of best alpha =  1e-05 The train log loss is: 0.4067111963487957\n",
            "For values of best alpha =  1e-05 The test log loss is: 0.41473089640205235\n",
            "Total number of data points : 30000\n"
          ],
          "name": "stdout"
        },
        {
          "output_type": "display_data",
          "data": {
            "image/png": "[encoded data removed]",
            "text/plain": [
              "<Figure size 432x288 with 6 Axes>"
            ]
          },
          "metadata": {
            "tags": []
          }
        }
      ]
    },
    {
      "cell_type": "code",
      "metadata": {
        "id": "wNgb7B0Ju47S",
        "colab_type": "code",
        "colab": {}
      },
      "source": [
        ""
      ],
      "execution_count": 0,
      "outputs": []
    },
    {
      "cell_type": "code",
      "metadata": {
        "id": "ksQ6eQ5pyGK-",
        "colab_type": "code",
        "colab": {}
      },
      "source": [
        ""
      ],
      "execution_count": 0,
      "outputs": []
    },
    {
      "cell_type": "code",
      "metadata": {
        "id": "2ff9wQXByGPE",
        "colab_type": "code",
        "colab": {}
      },
      "source": [
        ""
      ],
      "execution_count": 0,
      "outputs": []
    },
    {
      "cell_type": "code",
      "metadata": {
        "id": "coYVtGSeyGVf",
        "colab_type": "code",
        "colab": {}
      },
      "source": [
        ""
      ],
      "execution_count": 0,
      "outputs": []
    },
    {
      "cell_type": "code",
      "metadata": {
        "id": "0RrZp0dZPXcL",
        "colab_type": "code",
        "colab": {}
      },
      "source": [
        ""
      ],
      "execution_count": 0,
      "outputs": []
    },
    {
      "cell_type": "code",
      "metadata": {
        "id": "azQT878VPXfz",
        "colab_type": "code",
        "colab": {}
      },
      "source": [
        ""
      ],
      "execution_count": 0,
      "outputs": []
    },
    {
      "cell_type": "code",
      "metadata": {
        "id": "xHVE3CIgPXkI",
        "colab_type": "code",
        "colab": {}
      },
      "source": [
        ""
      ],
      "execution_count": 0,
      "outputs": []
    },
    {
      "cell_type": "code",
      "metadata": {
        "id": "6VLLYDAvyGYf",
        "colab_type": "code",
        "colab": {}
      },
      "source": [
        ""
      ],
      "execution_count": 0,
      "outputs": []
    },
    {
      "cell_type": "code",
      "metadata": {
        "id": "s3Y36t9jyGSy",
        "colab_type": "code",
        "colab": {}
      },
      "source": [
        ""
      ],
      "execution_count": 0,
      "outputs": []
    },
    {
      "cell_type": "code",
      "metadata": {
        "id": "vyJUUdnUwH4y",
        "colab_type": "code",
        "colab": {}
      },
      "source": [
        ""
      ],
      "execution_count": 0,
      "outputs": []
    },
    {
      "cell_type": "code",
      "metadata": {
        "id": "bLJTRbAMwIJR",
        "colab_type": "code",
        "colab": {}
      },
      "source": [
        ""
      ],
      "execution_count": 0,
      "outputs": []
    },
    {
      "cell_type": "code",
      "metadata": {
        "id": "LA2NOMl6u5BF",
        "colab_type": "code",
        "colab": {}
      },
      "source": [
        ""
      ],
      "execution_count": 0,
      "outputs": []
    },
    {
      "cell_type": "markdown",
      "metadata": {
        "id": "DE2m2Xa6DN16",
        "colab_type": "text"
      },
      "source": [
        "SVM"
      ]
    },
    {
      "cell_type": "code",
      "metadata": {
        "id": "dmiiNPvUgsSg",
        "colab_type": "code",
        "outputId": "95452521-aa83-42a7-86c6-75b15360769a",
        "colab": {
          "base_uri": "https://localhost:8080/",
          "height": 1025
        }
      },
      "source": [
        "alpha = [10 ** x for x in range(-5, 2)] # hyperparam for SGD classifier.\n",
        "\n",
        "\n",
        "log_error_array=[]\n",
        "for i in alpha:\n",
        "    clf = SGDClassifier(alpha=i, penalty='l1', loss='hinge', random_state=42,class_weight='balanced')\n",
        "    clf.fit(X_train, y_train)\n",
        "    sig_clf = CalibratedClassifierCV(clf, method=\"sigmoid\")\n",
        "    sig_clf.fit(X_train, y_train)\n",
        "    predict_y = sig_clf.predict_proba(X_test)\n",
        "    log_error_array.append(log_loss(y_test, predict_y, labels=clf.classes_, eps=1e-15))\n",
        "    print('For values of alpha = ', i, \"The log loss is:\",log_loss(y_test, predict_y, labels=clf.classes_, eps=1e-15))\n",
        "\n",
        "fig, ax = plt.subplots()\n",
        "ax.plot(alpha, log_error_array,c='g')\n",
        "for i, txt in enumerate(np.round(log_error_array,3)):\n",
        "    ax.annotate((alpha[i],np.round(txt,3)), (alpha[i],log_error_array[i]))\n",
        "plt.grid()\n",
        "plt.title(\"Cross Validation Error for each alpha\")\n",
        "plt.xlabel(\"Alpha i's\")\n",
        "plt.ylabel(\"Error measure\")\n",
        "plt.show()\n",
        "\n",
        "\n",
        "best_alpha = np.argmin(log_error_array)\n",
        "clf = SGDClassifier(alpha=alpha[best_alpha], penalty='l1', loss='hinge', random_state=42)\n",
        "clf.fit(X_train, y_train)\n",
        "sig_clf = CalibratedClassifierCV(clf, method=\"sigmoid\")\n",
        "sig_clf.fit(X_train, y_train)\n",
        "\n",
        "predict_y = sig_clf.predict_proba(X_train)\n",
        "print('For values of best alpha = ', alpha[best_alpha], \"The train log loss is:\",log_loss(y_train, predict_y, labels=clf.classes_, eps=1e-15))\n",
        "predict_y = sig_clf.predict_proba(X_test)\n",
        "print('For values of best alpha = ', alpha[best_alpha], \"The test log loss is:\",log_loss(y_test, predict_y, labels=clf.classes_, eps=1e-15))\n",
        "predicted_y =np.argmax(predict_y,axis=1)\n",
        "print(\"Total number of data points :\", len(predicted_y))\n",
        "plot_confusion_matrix(y_test, predicted_y)"
      ],
      "execution_count": 0,
      "outputs": [
        {
          "output_type": "stream",
          "text": [
            "For values of alpha =  1e-05 The log loss is: 0.4307726247901969\n",
            "For values of alpha =  0.0001 The log loss is: 0.4474315863645944\n"
          ],
          "name": "stdout"
        },
        {
          "output_type": "stream",
          "text": [
            "/usr/local/lib/python3.6/dist-packages/sklearn/linear_model/stochastic_gradient.py:561: ConvergenceWarning: Maximum number of iteration reached before convergence. Consider increasing max_iter to improve the fit.\n",
            "  ConvergenceWarning)\n",
            "/usr/local/lib/python3.6/dist-packages/sklearn/linear_model/stochastic_gradient.py:561: ConvergenceWarning: Maximum number of iteration reached before convergence. Consider increasing max_iter to improve the fit.\n",
            "  ConvergenceWarning)\n",
            "/usr/local/lib/python3.6/dist-packages/sklearn/linear_model/stochastic_gradient.py:561: ConvergenceWarning: Maximum number of iteration reached before convergence. Consider increasing max_iter to improve the fit.\n",
            "  ConvergenceWarning)\n"
          ],
          "name": "stderr"
        },
        {
          "output_type": "stream",
          "text": [
            "For values of alpha =  0.001 The log loss is: 0.4784706232478643\n"
          ],
          "name": "stdout"
        },
        {
          "output_type": "stream",
          "text": [
            "/usr/local/lib/python3.6/dist-packages/sklearn/linear_model/stochastic_gradient.py:561: ConvergenceWarning: Maximum number of iteration reached before convergence. Consider increasing max_iter to improve the fit.\n",
            "  ConvergenceWarning)\n",
            "/usr/local/lib/python3.6/dist-packages/sklearn/linear_model/stochastic_gradient.py:561: ConvergenceWarning: Maximum number of iteration reached before convergence. Consider increasing max_iter to improve the fit.\n",
            "  ConvergenceWarning)\n",
            "/usr/local/lib/python3.6/dist-packages/sklearn/linear_model/stochastic_gradient.py:561: ConvergenceWarning: Maximum number of iteration reached before convergence. Consider increasing max_iter to improve the fit.\n",
            "  ConvergenceWarning)\n"
          ],
          "name": "stderr"
        },
        {
          "output_type": "stream",
          "text": [
            "For values of alpha =  0.01 The log loss is: 0.5203994283174603\n"
          ],
          "name": "stdout"
        },
        {
          "output_type": "stream",
          "text": [
            "/usr/local/lib/python3.6/dist-packages/sklearn/linear_model/stochastic_gradient.py:561: ConvergenceWarning: Maximum number of iteration reached before convergence. Consider increasing max_iter to improve the fit.\n",
            "  ConvergenceWarning)\n"
          ],
          "name": "stderr"
        },
        {
          "output_type": "stream",
          "text": [
            "For values of alpha =  0.1 The log loss is: 0.5196539134981063\n",
            "For values of alpha =  1 The log loss is: 0.5602541955627278\n"
          ],
          "name": "stdout"
        },
        {
          "output_type": "stream",
          "text": [
            "/usr/local/lib/python3.6/dist-packages/sklearn/linear_model/stochastic_gradient.py:561: ConvergenceWarning: Maximum number of iteration reached before convergence. Consider increasing max_iter to improve the fit.\n",
            "  ConvergenceWarning)\n"
          ],
          "name": "stderr"
        },
        {
          "output_type": "stream",
          "text": [
            "For values of alpha =  10 The log loss is: 0.6595912538678794\n"
          ],
          "name": "stdout"
        },
        {
          "output_type": "display_data",
          "data": {
            "image/png": "[encoded data removed]",
            "text/plain": [
              "<Figure size 432x288 with 1 Axes>"
            ]
          },
          "metadata": {
            "tags": []
          }
        },
        {
          "output_type": "stream",
          "text": [
            "For values of best alpha =  1e-05 The train log loss is: 0.4266823820545736\n",
            "For values of best alpha =  1e-05 The test log loss is: 0.43456162391938125\n",
            "Total number of data points : 30000\n"
          ],
          "name": "stdout"
        },
        {
          "output_type": "display_data",
          "data": {
            "image/png": "[encoded data removed]",
            "text/plain": [
              "<Figure size 432x288 with 6 Axes>"
            ]
          },
          "metadata": {
            "tags": []
          }
        }
      ]
    },
    {
      "cell_type": "code",
      "metadata": {
        "id": "Srv0qezkvLik",
        "colab_type": "code",
        "colab": {}
      },
      "source": [
        ""
      ],
      "execution_count": 0,
      "outputs": []
    },
    {
      "cell_type": "code",
      "metadata": {
        "id": "ttD7B5-kyX9U",
        "colab_type": "code",
        "colab": {}
      },
      "source": [
        ""
      ],
      "execution_count": 0,
      "outputs": []
    },
    {
      "cell_type": "code",
      "metadata": {
        "id": "Z-mcyoz_yYA3",
        "colab_type": "code",
        "colab": {}
      },
      "source": [
        ""
      ],
      "execution_count": 0,
      "outputs": []
    },
    {
      "cell_type": "code",
      "metadata": {
        "id": "jWOooZdJyYGC",
        "colab_type": "code",
        "colab": {}
      },
      "source": [
        ""
      ],
      "execution_count": 0,
      "outputs": []
    },
    {
      "cell_type": "code",
      "metadata": {
        "id": "mU5q4TTCyYTw",
        "colab_type": "code",
        "colab": {}
      },
      "source": [
        ""
      ],
      "execution_count": 0,
      "outputs": []
    },
    {
      "cell_type": "code",
      "metadata": {
        "id": "zhE25aBdyQLa",
        "colab_type": "code",
        "colab": {}
      },
      "source": [
        ""
      ],
      "execution_count": 0,
      "outputs": []
    },
    {
      "cell_type": "code",
      "metadata": {
        "id": "QA-xT1PXyjR4",
        "colab_type": "code",
        "colab": {}
      },
      "source": [
        ""
      ],
      "execution_count": 0,
      "outputs": []
    },
    {
      "cell_type": "code",
      "metadata": {
        "id": "pYTeahEYyjVO",
        "colab_type": "code",
        "colab": {}
      },
      "source": [
        ""
      ],
      "execution_count": 0,
      "outputs": []
    },
    {
      "cell_type": "code",
      "metadata": {
        "id": "isD_I-WXyjYK",
        "colab_type": "code",
        "colab": {}
      },
      "source": [
        ""
      ],
      "execution_count": 0,
      "outputs": []
    },
    {
      "cell_type": "code",
      "metadata": {
        "id": "Kffomc7uyQOu",
        "colab_type": "code",
        "colab": {}
      },
      "source": [
        ""
      ],
      "execution_count": 0,
      "outputs": []
    },
    {
      "cell_type": "code",
      "metadata": {
        "id": "QJ4VwLKwyQSN",
        "colab_type": "code",
        "colab": {}
      },
      "source": [
        ""
      ],
      "execution_count": 0,
      "outputs": []
    },
    {
      "cell_type": "code",
      "metadata": {
        "id": "Y_Rf_bsIx7kM",
        "colab_type": "code",
        "colab": {}
      },
      "source": [
        ""
      ],
      "execution_count": 0,
      "outputs": []
    },
    {
      "cell_type": "code",
      "metadata": {
        "id": "mEs7muxNx7qM",
        "colab_type": "code",
        "colab": {}
      },
      "source": [
        ""
      ],
      "execution_count": 0,
      "outputs": []
    },
    {
      "cell_type": "markdown",
      "metadata": {
        "id": "eeU4kRLahea7",
        "colab_type": "text"
      },
      "source": [
        "## **Conclusion**"
      ]
    },
    {
      "cell_type": "markdown",
      "metadata": {
        "id": "pGnRRFschjNX",
        "colab_type": "text"
      },
      "source": [
        "The datafile is used to create a database consisting of useful features for finding similarity.TFIDF vectorisation is done finding features for the model.\n",
        "SGD clasiifier is used to train models with log and hinge loss. Linear SVm and Logistic regression are applied over datast.\n",
        "Since dimensionality and features are more , . Confusion mattrix is plotted.\n"
      ]
    }
  ]
}